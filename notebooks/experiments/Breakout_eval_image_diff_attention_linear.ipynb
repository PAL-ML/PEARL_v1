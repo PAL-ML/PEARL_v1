{
  "nbformat": 4,
  "nbformat_minor": 0,
  "metadata": {
    "accelerator": "GPU",
    "colab": {
      "name": "CLIP_AtariARI_Breakout_LinearProbe_ImageDiffPatchSelection_K4",
      "provenance": [],
      "collapsed_sections": [
        "7f4nwu_1NSXp"
      ],
      "toc_visible": true
    },
    "kernelspec": {
      "display_name": "Python 3",
      "name": "python3"
    },
    "language_info": {
      "name": "python"
    }
  },
  "cells": [
    {
      "cell_type": "markdown",
      "metadata": {
        "id": "h4IkUHvT0BCx"
      },
      "source": [
        "# Mount Drive & Login to Wandb"
      ]
    },
    {
      "cell_type": "code",
      "metadata": {
        "id": "xVtxjkbzgVfk",
        "colab": {
          "base_uri": "https://localhost:8080/"
        },
        "outputId": "a65b27ef-c2ac-4c08-a1b8-71e0038eb1f1"
      },
      "source": [
        "from google.colab import drive\n",
        "from getpass import getpass\n",
        "import urllib\n",
        "import os\n",
        "\n",
        "# Mount drive\n",
        "drive.mount('/content/drive')\n",
        "\n",
        "\n",
        "!pip install wandb -qqq\n",
        "!wandb login"
      ],
      "execution_count": 1,
      "outputs": [
        {
          "output_type": "stream",
          "text": [
            "Mounted at /content/drive\n",
            "\u001b[K     |████████████████████████████████| 1.8MB 7.4MB/s \n",
            "\u001b[K     |████████████████████████████████| 133kB 54.2MB/s \n",
            "\u001b[K     |████████████████████████████████| 174kB 52.8MB/s \n",
            "\u001b[K     |████████████████████████████████| 102kB 13.1MB/s \n",
            "\u001b[K     |████████████████████████████████| 71kB 10.5MB/s \n",
            "\u001b[?25h  Building wheel for pathtools (setup.py) ... \u001b[?25l\u001b[?25hdone\n",
            "  Building wheel for subprocess32 (setup.py) ... \u001b[?25l\u001b[?25hdone\n",
            "\u001b[34m\u001b[1mwandb\u001b[0m: You can find your API key in your browser here: https://wandb.ai/authorize\n",
            "\u001b[34m\u001b[1mwandb\u001b[0m: Paste an API key from your profile and hit enter: \n",
            "\u001b[34m\u001b[1mwandb\u001b[0m: Appending key for api.wandb.ai to your netrc file: /root/.netrc\n",
            "Go to this URL in a browser: https://accounts.google.com/o/oauth2/auth?client_id=947318989803-6bn6qk8qdgf4n4g3pfee6491hc0brc4i.apps.googleusercontent.com&redirect_uri=urn%3aietf%3awg%3aoauth%3a2.0%3aoob&scope=email%20https%3a%2f%2fwww.googleapis.com%2fauth%2fdocs.test%20https%3a%2f%2fwww.googleapis.com%2fauth%2fdrive%20https%3a%2f%2fwww.googleapis.com%2fauth%2fdrive.photos.readonly%20https%3a%2f%2fwww.googleapis.com%2fauth%2fpeopleapi.readonly%20https%3a%2f%2fwww.googleapis.com%2fauth%2fdrive.activity.readonly%20https%3a%2f%2fwww.googleapis.com%2fauth%2fexperimentsandconfigs%20https%3a%2f%2fwww.googleapis.com%2fauth%2fphotos.native&response_type=code\n",
            "\n",
            "Enter your authorization code:\n",
            "4/1AY0e-g55iWs1FMSID3VIO5cWx8q021BLhYMMyYz3c58kTxV_PZtKvXjUzQ4\n"
          ],
          "name": "stdout"
        }
      ]
    },
    {
      "cell_type": "markdown",
      "metadata": {
        "id": "yq8xAJ8Yh2r0"
      },
      "source": [
        "# Install dependencies"
      ]
    },
    {
      "cell_type": "code",
      "metadata": {
        "id": "vmYo_A7o_7w8",
        "colab": {
          "base_uri": "https://localhost:8080/"
        },
        "outputId": "f06b3559-d69e-4af2-d635-cd9dbcd44f49"
      },
      "source": [
        "!rm -r pearl"
      ],
      "execution_count": 2,
      "outputs": [
        {
          "output_type": "stream",
          "text": [
            "rm: cannot remove 'pearl': No such file or directory\n"
          ],
          "name": "stdout"
        }
      ]
    },
    {
      "cell_type": "code",
      "metadata": {
        "colab": {
          "base_uri": "https://localhost:8080/"
        },
        "id": "CSAk15ES_7w8",
        "outputId": "fe3924f5-b570-4157-dd84-151710bca64e"
      },
      "source": [
        "!git clone https://github.com/PAL-ML/PEARL_v1.git pearl"
      ],
      "execution_count": 3,
      "outputs": [
        {
          "output_type": "stream",
          "text": [
            "Cloning into 'pearl'...\n",
            "remote: Enumerating objects: 119, done.\u001b[K\n",
            "remote: Counting objects: 100% (119/119), done.\u001b[K\n",
            "remote: Compressing objects: 100% (98/98), done.\u001b[K\n",
            "remote: Total 119 (delta 49), reused 65 (delta 16), pack-reused 0\u001b[K\n",
            "Receiving objects: 100% (119/119), 17.58 MiB | 31.37 MiB/s, done.\n",
            "Resolving deltas: 100% (49/49), done.\n"
          ],
          "name": "stdout"
        }
      ]
    },
    {
      "cell_type": "code",
      "metadata": {
        "colab": {
          "base_uri": "https://localhost:8080/"
        },
        "id": "G4JzC9YH_7w9",
        "outputId": "a6b1005e-1aeb-4fde-8c56-6cf212b8a427"
      },
      "source": [
        "%cd pearl\n",
        "!pip install -r requirements.txt\n",
        "%cd .."
      ],
      "execution_count": 4,
      "outputs": [
        {
          "output_type": "stream",
          "text": [
            "/content/pearl\n",
            "Requirement already satisfied: gym[atari] in /usr/local/lib/python3.7/dist-packages (from -r requirements.txt (line 1)) (0.17.3)\n",
            "Requirement already satisfied: wandb in /usr/local/lib/python3.7/dist-packages (from -r requirements.txt (line 2)) (0.10.31)\n",
            "Requirement already satisfied: opencv-python in /usr/local/lib/python3.7/dist-packages (from -r requirements.txt (line 3)) (4.1.2.30)\n",
            "Requirement already satisfied: scikit-learn in /usr/local/lib/python3.7/dist-packages (from -r requirements.txt (line 4)) (0.22.2.post1)\n",
            "Requirement already satisfied: pyglet<=1.5.0,>=1.4.0 in /usr/local/lib/python3.7/dist-packages (from gym[atari]->-r requirements.txt (line 1)) (1.5.0)\n",
            "Requirement already satisfied: scipy in /usr/local/lib/python3.7/dist-packages (from gym[atari]->-r requirements.txt (line 1)) (1.4.1)\n",
            "Requirement already satisfied: cloudpickle<1.7.0,>=1.2.0 in /usr/local/lib/python3.7/dist-packages (from gym[atari]->-r requirements.txt (line 1)) (1.3.0)\n",
            "Requirement already satisfied: numpy>=1.10.4 in /usr/local/lib/python3.7/dist-packages (from gym[atari]->-r requirements.txt (line 1)) (1.19.5)\n",
            "Requirement already satisfied: Pillow; extra == \"atari\" in /usr/local/lib/python3.7/dist-packages (from gym[atari]->-r requirements.txt (line 1)) (7.1.2)\n",
            "Requirement already satisfied: atari-py~=0.2.0; extra == \"atari\" in /usr/local/lib/python3.7/dist-packages (from gym[atari]->-r requirements.txt (line 1)) (0.2.9)\n",
            "Requirement already satisfied: python-dateutil>=2.6.1 in /usr/local/lib/python3.7/dist-packages (from wandb->-r requirements.txt (line 2)) (2.8.1)\n",
            "Requirement already satisfied: pathtools in /usr/local/lib/python3.7/dist-packages (from wandb->-r requirements.txt (line 2)) (0.1.2)\n",
            "Requirement already satisfied: psutil>=5.0.0 in /usr/local/lib/python3.7/dist-packages (from wandb->-r requirements.txt (line 2)) (5.4.8)\n",
            "Requirement already satisfied: requests<3,>=2.0.0 in /usr/local/lib/python3.7/dist-packages (from wandb->-r requirements.txt (line 2)) (2.23.0)\n",
            "Requirement already satisfied: promise<3,>=2.0 in /usr/local/lib/python3.7/dist-packages (from wandb->-r requirements.txt (line 2)) (2.3)\n",
            "Requirement already satisfied: subprocess32>=3.5.3 in /usr/local/lib/python3.7/dist-packages (from wandb->-r requirements.txt (line 2)) (3.5.4)\n",
            "Requirement already satisfied: protobuf>=3.12.0 in /usr/local/lib/python3.7/dist-packages (from wandb->-r requirements.txt (line 2)) (3.12.4)\n",
            "Requirement already satisfied: sentry-sdk>=0.4.0 in /usr/local/lib/python3.7/dist-packages (from wandb->-r requirements.txt (line 2)) (1.1.0)\n",
            "Requirement already satisfied: PyYAML in /usr/local/lib/python3.7/dist-packages (from wandb->-r requirements.txt (line 2)) (3.13)\n",
            "Requirement already satisfied: GitPython>=1.0.0 in /usr/local/lib/python3.7/dist-packages (from wandb->-r requirements.txt (line 2)) (3.1.17)\n",
            "Requirement already satisfied: six>=1.13.0 in /usr/local/lib/python3.7/dist-packages (from wandb->-r requirements.txt (line 2)) (1.15.0)\n",
            "Requirement already satisfied: configparser>=3.8.1 in /usr/local/lib/python3.7/dist-packages (from wandb->-r requirements.txt (line 2)) (5.0.2)\n",
            "Requirement already satisfied: Click>=7.0 in /usr/local/lib/python3.7/dist-packages (from wandb->-r requirements.txt (line 2)) (7.1.2)\n",
            "Requirement already satisfied: docker-pycreds>=0.4.0 in /usr/local/lib/python3.7/dist-packages (from wandb->-r requirements.txt (line 2)) (0.4.0)\n",
            "Requirement already satisfied: shortuuid>=0.5.0 in /usr/local/lib/python3.7/dist-packages (from wandb->-r requirements.txt (line 2)) (1.0.1)\n",
            "Requirement already satisfied: joblib>=0.11 in /usr/local/lib/python3.7/dist-packages (from scikit-learn->-r requirements.txt (line 4)) (1.0.1)\n",
            "Requirement already satisfied: future in /usr/local/lib/python3.7/dist-packages (from pyglet<=1.5.0,>=1.4.0->gym[atari]->-r requirements.txt (line 1)) (0.16.0)\n",
            "Requirement already satisfied: certifi>=2017.4.17 in /usr/local/lib/python3.7/dist-packages (from requests<3,>=2.0.0->wandb->-r requirements.txt (line 2)) (2020.12.5)\n",
            "Requirement already satisfied: chardet<4,>=3.0.2 in /usr/local/lib/python3.7/dist-packages (from requests<3,>=2.0.0->wandb->-r requirements.txt (line 2)) (3.0.4)\n",
            "Requirement already satisfied: idna<3,>=2.5 in /usr/local/lib/python3.7/dist-packages (from requests<3,>=2.0.0->wandb->-r requirements.txt (line 2)) (2.10)\n",
            "Requirement already satisfied: urllib3!=1.25.0,!=1.25.1,<1.26,>=1.21.1 in /usr/local/lib/python3.7/dist-packages (from requests<3,>=2.0.0->wandb->-r requirements.txt (line 2)) (1.24.3)\n",
            "Requirement already satisfied: setuptools in /usr/local/lib/python3.7/dist-packages (from protobuf>=3.12.0->wandb->-r requirements.txt (line 2)) (57.0.0)\n",
            "Requirement already satisfied: typing-extensions>=3.7.4.0; python_version < \"3.8\" in /usr/local/lib/python3.7/dist-packages (from GitPython>=1.0.0->wandb->-r requirements.txt (line 2)) (3.7.4.3)\n",
            "Requirement already satisfied: gitdb<5,>=4.0.1 in /usr/local/lib/python3.7/dist-packages (from GitPython>=1.0.0->wandb->-r requirements.txt (line 2)) (4.0.7)\n",
            "Requirement already satisfied: smmap<5,>=3.0.1 in /usr/local/lib/python3.7/dist-packages (from gitdb<5,>=4.0.1->GitPython>=1.0.0->wandb->-r requirements.txt (line 2)) (4.0.0)\n",
            "/content\n"
          ],
          "name": "stdout"
        }
      ]
    },
    {
      "cell_type": "code",
      "metadata": {
        "id": "AEg_GmBFaMtj",
        "colab": {
          "base_uri": "https://localhost:8080/"
        },
        "outputId": "9ec7f2c1-5616-45ea-e712-eb91f3331a41"
      },
      "source": [
        "!pip install git+git://github.com/ankeshanand/pytorch-a2c-ppo-acktr-gail"
      ],
      "execution_count": 5,
      "outputs": [
        {
          "output_type": "stream",
          "text": [
            "Collecting git+git://github.com/ankeshanand/pytorch-a2c-ppo-acktr-gail\n",
            "  Cloning git://github.com/ankeshanand/pytorch-a2c-ppo-acktr-gail to /tmp/pip-req-build-9q1n31kc\n",
            "  Running command git clone -q git://github.com/ankeshanand/pytorch-a2c-ppo-acktr-gail /tmp/pip-req-build-9q1n31kc\n",
            "Requirement already satisfied: gym in /usr/local/lib/python3.7/dist-packages (from a2c-ppo-acktr==0.0.1) (0.17.3)\n",
            "Requirement already satisfied: matplotlib in /usr/local/lib/python3.7/dist-packages (from a2c-ppo-acktr==0.0.1) (3.2.2)\n",
            "Requirement already satisfied: scipy in /usr/local/lib/python3.7/dist-packages (from gym->a2c-ppo-acktr==0.0.1) (1.4.1)\n",
            "Requirement already satisfied: numpy>=1.10.4 in /usr/local/lib/python3.7/dist-packages (from gym->a2c-ppo-acktr==0.0.1) (1.19.5)\n",
            "Requirement already satisfied: cloudpickle<1.7.0,>=1.2.0 in /usr/local/lib/python3.7/dist-packages (from gym->a2c-ppo-acktr==0.0.1) (1.3.0)\n",
            "Requirement already satisfied: pyglet<=1.5.0,>=1.4.0 in /usr/local/lib/python3.7/dist-packages (from gym->a2c-ppo-acktr==0.0.1) (1.5.0)\n",
            "Requirement already satisfied: kiwisolver>=1.0.1 in /usr/local/lib/python3.7/dist-packages (from matplotlib->a2c-ppo-acktr==0.0.1) (1.3.1)\n",
            "Requirement already satisfied: pyparsing!=2.0.4,!=2.1.2,!=2.1.6,>=2.0.1 in /usr/local/lib/python3.7/dist-packages (from matplotlib->a2c-ppo-acktr==0.0.1) (2.4.7)\n",
            "Requirement already satisfied: python-dateutil>=2.1 in /usr/local/lib/python3.7/dist-packages (from matplotlib->a2c-ppo-acktr==0.0.1) (2.8.1)\n",
            "Requirement already satisfied: cycler>=0.10 in /usr/local/lib/python3.7/dist-packages (from matplotlib->a2c-ppo-acktr==0.0.1) (0.10.0)\n",
            "Requirement already satisfied: future in /usr/local/lib/python3.7/dist-packages (from pyglet<=1.5.0,>=1.4.0->gym->a2c-ppo-acktr==0.0.1) (0.16.0)\n",
            "Requirement already satisfied: six>=1.5 in /usr/local/lib/python3.7/dist-packages (from python-dateutil>=2.1->matplotlib->a2c-ppo-acktr==0.0.1) (1.15.0)\n",
            "Building wheels for collected packages: a2c-ppo-acktr\n",
            "  Building wheel for a2c-ppo-acktr (setup.py) ... \u001b[?25l\u001b[?25hdone\n",
            "  Created wheel for a2c-ppo-acktr: filename=a2c_ppo_acktr-0.0.1-cp37-none-any.whl size=18832 sha256=8fda615ee35ec26ec4b7b6ee42de0bd26448c1870e5f9b808bffad886d9819c1\n",
            "  Stored in directory: /tmp/pip-ephem-wheel-cache-zuf7oi1a/wheels/91/52/02/ec5c530fd76d56a66934ee91abbdae5240b766be1dc176deb7\n",
            "Successfully built a2c-ppo-acktr\n",
            "Installing collected packages: a2c-ppo-acktr\n",
            "Successfully installed a2c-ppo-acktr-0.0.1\n"
          ],
          "name": "stdout"
        }
      ]
    },
    {
      "cell_type": "code",
      "metadata": {
        "id": "JpU4yjx3aVhQ",
        "colab": {
          "base_uri": "https://localhost:8080/"
        },
        "outputId": "aa0ee2de-2065-44d2-c906-da0bf8f0cba5"
      },
      "source": [
        "!pip install git+git://github.com/mila-iqia/atari-representation-learning.git"
      ],
      "execution_count": 6,
      "outputs": [
        {
          "output_type": "stream",
          "text": [
            "Collecting git+git://github.com/mila-iqia/atari-representation-learning.git\n",
            "  Cloning git://github.com/mila-iqia/atari-representation-learning.git to /tmp/pip-req-build-ok9va743\n",
            "  Running command git clone -q git://github.com/mila-iqia/atari-representation-learning.git /tmp/pip-req-build-ok9va743\n",
            "Requirement already satisfied: gym in /usr/local/lib/python3.7/dist-packages (from atariari==0.0.1) (0.17.3)\n",
            "Requirement already satisfied: opencv-python in /usr/local/lib/python3.7/dist-packages (from atariari==0.0.1) (4.1.2.30)\n",
            "Requirement already satisfied: scipy in /usr/local/lib/python3.7/dist-packages (from gym->atariari==0.0.1) (1.4.1)\n",
            "Requirement already satisfied: numpy>=1.10.4 in /usr/local/lib/python3.7/dist-packages (from gym->atariari==0.0.1) (1.19.5)\n",
            "Requirement already satisfied: cloudpickle<1.7.0,>=1.2.0 in /usr/local/lib/python3.7/dist-packages (from gym->atariari==0.0.1) (1.3.0)\n",
            "Requirement already satisfied: pyglet<=1.5.0,>=1.4.0 in /usr/local/lib/python3.7/dist-packages (from gym->atariari==0.0.1) (1.5.0)\n",
            "Requirement already satisfied: future in /usr/local/lib/python3.7/dist-packages (from pyglet<=1.5.0,>=1.4.0->gym->atariari==0.0.1) (0.16.0)\n",
            "Building wheels for collected packages: atariari\n",
            "  Building wheel for atariari (setup.py) ... \u001b[?25l\u001b[?25hdone\n",
            "  Created wheel for atariari: filename=atariari-0.0.1-cp37-none-any.whl size=46727 sha256=6eefcee35e3f5ec6f070c705847ded78813e4d42119ad5008c1b515d9ee33b00\n",
            "  Stored in directory: /tmp/pip-ephem-wheel-cache-sbbp1fg9/wheels/3d/69/51/5e436e5ae566c5b4dec5c53e65396d516459877a42a11d7aa4\n",
            "Successfully built atariari\n",
            "Installing collected packages: atariari\n",
            "Successfully installed atariari-0.0.1\n"
          ],
          "name": "stdout"
        }
      ]
    },
    {
      "cell_type": "code",
      "metadata": {
        "id": "f1Gsu6oxdIQm",
        "colab": {
          "base_uri": "https://localhost:8080/"
        },
        "outputId": "f10bc54c-d3a3-4a8e-bc5b-6ac0f5428e12"
      },
      "source": [
        "!pip install torch==1.7.1{torch_version_suffix} torchvision==0.8.2{torch_version_suffix} -f https://download.pytorch.org/whl/torch_stable.html ftfy regex"
      ],
      "execution_count": 7,
      "outputs": [
        {
          "output_type": "stream",
          "text": [
            "Looking in links: https://download.pytorch.org/whl/torch_stable.html\n",
            "\u001b[31mERROR: Could not find a version that satisfies the requirement torch==1.7.1{torch_version_suffix} (from versions: 0.1.2, 0.1.2.post1, 0.1.2.post2, 0.4.1, 0.4.1.post2, 1.0.0, 1.0.1, 1.0.1.post2, 1.1.0, 1.2.0, 1.2.0+cpu, 1.2.0+cu92, 1.3.0, 1.3.0+cpu, 1.3.0+cu100, 1.3.0+cu92, 1.3.1, 1.3.1+cpu, 1.3.1+cu100, 1.3.1+cu92, 1.4.0, 1.4.0+cpu, 1.4.0+cu100, 1.4.0+cu92, 1.5.0, 1.5.0+cpu, 1.5.0+cu101, 1.5.0+cu92, 1.5.1, 1.5.1+cpu, 1.5.1+cu101, 1.5.1+cu92, 1.6.0, 1.6.0+cpu, 1.6.0+cu101, 1.6.0+cu92, 1.7.0, 1.7.0+cpu, 1.7.0+cu101, 1.7.0+cu110, 1.7.0+cu92, 1.7.1, 1.7.1+cpu, 1.7.1+cu101, 1.7.1+cu110, 1.7.1+cu92, 1.7.1+rocm3.7, 1.7.1+rocm3.8, 1.8.0, 1.8.0+cpu, 1.8.0+cu101, 1.8.0+cu111, 1.8.0+rocm3.10, 1.8.0+rocm4.0.1, 1.8.1, 1.8.1+cpu, 1.8.1+cu101, 1.8.1+cu102, 1.8.1+cu111, 1.8.1+rocm3.10, 1.8.1+rocm4.0.1)\u001b[0m\n",
            "\u001b[31mERROR: No matching distribution found for torch==1.7.1{torch_version_suffix}\u001b[0m\n"
          ],
          "name": "stdout"
        }
      ]
    },
    {
      "cell_type": "code",
      "metadata": {
        "id": "SNrCTmycdfNG",
        "colab": {
          "base_uri": "https://localhost:8080/"
        },
        "outputId": "473565ae-6604-4f4f-a08b-252897203ed4"
      },
      "source": [
        "!pip install ftfy regex tqdm"
      ],
      "execution_count": 8,
      "outputs": [
        {
          "output_type": "stream",
          "text": [
            "Collecting ftfy\n",
            "\u001b[?25l  Downloading https://files.pythonhosted.org/packages/af/da/d215a091986e5f01b80f5145cff6f22e2dc57c6b048aab2e882a07018473/ftfy-6.0.3.tar.gz (64kB)\n",
            "\r\u001b[K     |█████                           | 10kB 23.7MB/s eta 0:00:01\r\u001b[K     |██████████▏                     | 20kB 25.9MB/s eta 0:00:01\r\u001b[K     |███████████████▎                | 30kB 17.2MB/s eta 0:00:01\r\u001b[K     |████████████████████▍           | 40kB 14.9MB/s eta 0:00:01\r\u001b[K     |█████████████████████████▌      | 51kB 8.9MB/s eta 0:00:01\r\u001b[K     |██████████████████████████████▋ | 61kB 8.9MB/s eta 0:00:01\r\u001b[K     |████████████████████████████████| 71kB 5.1MB/s \n",
            "\u001b[?25hRequirement already satisfied: regex in /usr/local/lib/python3.7/dist-packages (2019.12.20)\n",
            "Requirement already satisfied: tqdm in /usr/local/lib/python3.7/dist-packages (4.41.1)\n",
            "Requirement already satisfied: wcwidth in /usr/local/lib/python3.7/dist-packages (from ftfy) (0.2.5)\n",
            "Building wheels for collected packages: ftfy\n",
            "  Building wheel for ftfy (setup.py) ... \u001b[?25l\u001b[?25hdone\n",
            "  Created wheel for ftfy: filename=ftfy-6.0.3-cp37-none-any.whl size=41935 sha256=8318663c724c333b6c1c1112a7974523913d76d656811b91a9e828658cfa129f\n",
            "  Stored in directory: /root/.cache/pip/wheels/99/2c/e6/109c8a28fef7a443f67ba58df21fe1d0067ac3322e75e6b0b7\n",
            "Successfully built ftfy\n",
            "Installing collected packages: ftfy\n",
            "Successfully installed ftfy-6.0.3\n"
          ],
          "name": "stdout"
        }
      ]
    },
    {
      "cell_type": "code",
      "metadata": {
        "id": "X1JziHLTdlkO",
        "colab": {
          "base_uri": "https://localhost:8080/"
        },
        "outputId": "ba6d5252-fea1-4ccc-a024-8ec6c4140f44"
      },
      "source": [
        "pip install git+https://github.com/openai/CLIP.git"
      ],
      "execution_count": 9,
      "outputs": [
        {
          "output_type": "stream",
          "text": [
            "Collecting git+https://github.com/openai/CLIP.git\n",
            "  Cloning https://github.com/openai/CLIP.git to /tmp/pip-req-build-g9l5g11n\n",
            "  Running command git clone -q https://github.com/openai/CLIP.git /tmp/pip-req-build-g9l5g11n\n",
            "Requirement already satisfied: ftfy in /usr/local/lib/python3.7/dist-packages (from clip==1.0) (6.0.3)\n",
            "Requirement already satisfied: regex in /usr/local/lib/python3.7/dist-packages (from clip==1.0) (2019.12.20)\n",
            "Requirement already satisfied: tqdm in /usr/local/lib/python3.7/dist-packages (from clip==1.0) (4.41.1)\n",
            "Collecting torch~=1.7.1\n",
            "\u001b[?25l  Downloading https://files.pythonhosted.org/packages/90/5d/095ddddc91c8a769a68c791c019c5793f9c4456a688ddd235d6670924ecb/torch-1.7.1-cp37-cp37m-manylinux1_x86_64.whl (776.8MB)\n",
            "\u001b[K     |████████████████████████████████| 776.8MB 23kB/s \n",
            "\u001b[?25hCollecting torchvision~=0.8.2\n",
            "\u001b[?25l  Downloading https://files.pythonhosted.org/packages/94/df/969e69a94cff1c8911acb0688117f95e1915becc1e01c73e7960a2c76ec8/torchvision-0.8.2-cp37-cp37m-manylinux1_x86_64.whl (12.8MB)\n",
            "\u001b[K     |████████████████████████████████| 12.8MB 262kB/s \n",
            "\u001b[?25hRequirement already satisfied: wcwidth in /usr/local/lib/python3.7/dist-packages (from ftfy->clip==1.0) (0.2.5)\n",
            "Requirement already satisfied: typing-extensions in /usr/local/lib/python3.7/dist-packages (from torch~=1.7.1->clip==1.0) (3.7.4.3)\n",
            "Requirement already satisfied: numpy in /usr/local/lib/python3.7/dist-packages (from torch~=1.7.1->clip==1.0) (1.19.5)\n",
            "Requirement already satisfied: pillow>=4.1.1 in /usr/local/lib/python3.7/dist-packages (from torchvision~=0.8.2->clip==1.0) (7.1.2)\n",
            "Building wheels for collected packages: clip\n",
            "  Building wheel for clip (setup.py) ... \u001b[?25l\u001b[?25hdone\n",
            "  Created wheel for clip: filename=clip-1.0-cp37-none-any.whl size=1368722 sha256=9b83b3fe5b7711bfcff13ba35396935ea22f20304522ed6c4fe93de018bda4c3\n",
            "  Stored in directory: /tmp/pip-ephem-wheel-cache-fobpyhus/wheels/79/51/d7/69f91d37121befe21d9c52332e04f592e17d1cabc7319b3e09\n",
            "Successfully built clip\n",
            "\u001b[31mERROR: torchtext 0.9.1 has requirement torch==1.8.1, but you'll have torch 1.7.1 which is incompatible.\u001b[0m\n",
            "Installing collected packages: torch, torchvision, clip\n",
            "  Found existing installation: torch 1.8.1+cu101\n",
            "    Uninstalling torch-1.8.1+cu101:\n",
            "      Successfully uninstalled torch-1.8.1+cu101\n",
            "  Found existing installation: torchvision 0.9.1+cu101\n",
            "    Uninstalling torchvision-0.9.1+cu101:\n",
            "      Successfully uninstalled torchvision-0.9.1+cu101\n",
            "Successfully installed clip-1.0 torch-1.7.1 torchvision-0.8.2\n"
          ],
          "name": "stdout"
        }
      ]
    },
    {
      "cell_type": "code",
      "metadata": {
        "id": "iCq07cZJeVSG",
        "colab": {
          "base_uri": "https://localhost:8080/"
        },
        "outputId": "e76453fe-0b92-43e1-b3a5-c050647cb869"
      },
      "source": [
        "!pip install git+git://github.com/openai/baselines"
      ],
      "execution_count": 10,
      "outputs": [
        {
          "output_type": "stream",
          "text": [
            "Collecting git+git://github.com/openai/baselines\n",
            "  Cloning git://github.com/openai/baselines to /tmp/pip-req-build-begr_wuv\n",
            "  Running command git clone -q git://github.com/openai/baselines /tmp/pip-req-build-begr_wuv\n",
            "Collecting gym<0.16.0,>=0.15.4\n",
            "\u001b[?25l  Downloading https://files.pythonhosted.org/packages/e0/01/8771e8f914a627022296dab694092a11a7d417b6c8364f0a44a8debca734/gym-0.15.7.tar.gz (1.6MB)\n",
            "\u001b[K     |████████████████████████████████| 1.6MB 8.1MB/s \n",
            "\u001b[?25hRequirement already satisfied: scipy in /usr/local/lib/python3.7/dist-packages (from baselines==0.1.6) (1.4.1)\n",
            "Requirement already satisfied: tqdm in /usr/local/lib/python3.7/dist-packages (from baselines==0.1.6) (4.41.1)\n",
            "Requirement already satisfied: joblib in /usr/local/lib/python3.7/dist-packages (from baselines==0.1.6) (1.0.1)\n",
            "Requirement already satisfied: cloudpickle in /usr/local/lib/python3.7/dist-packages (from baselines==0.1.6) (1.3.0)\n",
            "Requirement already satisfied: click in /usr/local/lib/python3.7/dist-packages (from baselines==0.1.6) (7.1.2)\n",
            "Requirement already satisfied: opencv-python in /usr/local/lib/python3.7/dist-packages (from baselines==0.1.6) (4.1.2.30)\n",
            "Requirement already satisfied: numpy>=1.10.4 in /usr/local/lib/python3.7/dist-packages (from gym<0.16.0,>=0.15.4->baselines==0.1.6) (1.19.5)\n",
            "Requirement already satisfied: six in /usr/local/lib/python3.7/dist-packages (from gym<0.16.0,>=0.15.4->baselines==0.1.6) (1.15.0)\n",
            "Requirement already satisfied: pyglet<=1.5.0,>=1.4.0 in /usr/local/lib/python3.7/dist-packages (from gym<0.16.0,>=0.15.4->baselines==0.1.6) (1.5.0)\n",
            "Requirement already satisfied: future in /usr/local/lib/python3.7/dist-packages (from pyglet<=1.5.0,>=1.4.0->gym<0.16.0,>=0.15.4->baselines==0.1.6) (0.16.0)\n",
            "Building wheels for collected packages: baselines, gym\n",
            "  Building wheel for baselines (setup.py) ... \u001b[?25l\u001b[?25hdone\n",
            "  Created wheel for baselines: filename=baselines-0.1.6-cp37-none-any.whl size=220681 sha256=312449448192b80847af3853b83f9515ccfe8f721aa027a1f822488971396e18\n",
            "  Stored in directory: /tmp/pip-ephem-wheel-cache-js0q1prb/wheels/42/1c/91/28314e0cd1d2cc57cf8dd18b20c4c9a0f39ae518adc13caf24\n",
            "  Building wheel for gym (setup.py) ... \u001b[?25l\u001b[?25hdone\n",
            "  Created wheel for gym: filename=gym-0.15.7-cp37-none-any.whl size=1648842 sha256=9dc41d63a8257df329507269384b946441724dbdbd4ce724fb085803680cb4c2\n",
            "  Stored in directory: /root/.cache/pip/wheels/35/60/6a/f9c27ae133abaf5a5687ed2fa8ed19627d7fac5d843a27572b\n",
            "Successfully built baselines gym\n",
            "\u001b[31mERROR: gym 0.15.7 has requirement cloudpickle~=1.2.0, but you'll have cloudpickle 1.3.0 which is incompatible.\u001b[0m\n",
            "Installing collected packages: gym, baselines\n",
            "  Found existing installation: gym 0.17.3\n",
            "    Uninstalling gym-0.17.3:\n",
            "      Successfully uninstalled gym-0.17.3\n",
            "Successfully installed baselines-0.1.6 gym-0.15.7\n"
          ],
          "name": "stdout"
        }
      ]
    },
    {
      "cell_type": "code",
      "metadata": {
        "id": "gOoUFuZ-GH1L",
        "colab": {
          "base_uri": "https://localhost:8080/"
        },
        "outputId": "05b2d704-9d12-47e0-dd4b-af8af18e07de"
      },
      "source": [
        "!git clone https://github.com/princeton-vl/RAFT.git"
      ],
      "execution_count": 11,
      "outputs": [
        {
          "output_type": "stream",
          "text": [
            "Cloning into 'RAFT'...\n",
            "remote: Enumerating objects: 133, done.\u001b[K\n",
            "remote: Total 133 (delta 0), reused 0 (delta 0), pack-reused 133\u001b[K\n",
            "Receiving objects: 100% (133/133), 10.01 MiB | 17.32 MiB/s, done.\n",
            "Resolving deltas: 100% (47/47), done.\n"
          ],
          "name": "stdout"
        }
      ]
    },
    {
      "cell_type": "markdown",
      "metadata": {
        "id": "hGEGKk7Gisky"
      },
      "source": [
        "# Imports"
      ]
    },
    {
      "cell_type": "code",
      "metadata": {
        "id": "VZTQ396QdqKC"
      },
      "source": [
        "# ML libraries\n",
        "import torch.nn as nn\n",
        "import torch\n",
        "import pearl.src.benchmark.colab_data_preprocess as data_utils\n",
        "from pearl.src.benchmark.probe_training_wrapper import run_probe_training\n",
        "from pearl.src.benchmark.encoder_training_wrapper import run_encoder_training\n",
        "from pearl.src.methods.encoders import LinearRepEncoder, ClipEncoder, LinearCPCEncoder\n",
        "from pearl.src.benchmark.utils import appendabledict, load_encoder_from_checkpoint\n",
        "\n",
        "# Models\n",
        "import clip\n",
        "\n",
        "# Data processing\n",
        "from PIL import Image\n",
        "from torchvision.transforms import Compose, Resize, Normalize\n",
        "\n",
        "# Misc\n",
        "import numpy as np\n",
        "import wandb\n",
        "import os\n",
        "from tqdm import tqdm\n",
        "import bisect\n",
        "\n",
        "# Plotting\n",
        "import seaborn as sns\n",
        "import matplotlib.pyplot as plt\n",
        "from matplotlib import cm"
      ],
      "execution_count": 12,
      "outputs": []
    },
    {
      "cell_type": "markdown",
      "metadata": {
        "id": "wZTKLXRii4xT"
      },
      "source": [
        "# Helper function(s)"
      ]
    },
    {
      "cell_type": "code",
      "metadata": {
        "id": "gH2tZT3ai7X5"
      },
      "source": [
        "def get_trained_encoder(rep_encoder, tr_episodes, val_episodes, config, wandb, method=None, train_encoder=False):  \n",
        "    if train_encoder:\n",
        "        trained_encoder = run_encoder_training(rep_encoder, tr_episodes, val_episodes, config, wandb, method=method)\n",
        "    else:\n",
        "        trained_encoder = load_encoder_from_checkpoint(encoder_models_dir, config['model_name'], LinearCPCEncoder, input_size=rep_encoder.input_size, output_size=rep_encoder.feature_size, to_train=False)\n",
        "\n",
        "    return trained_encoder"
      ],
      "execution_count": 13,
      "outputs": []
    },
    {
      "cell_type": "markdown",
      "metadata": {
        "id": "TwFLJmq4CHNq"
      },
      "source": [
        "## Process optical flow files"
      ]
    },
    {
      "cell_type": "code",
      "metadata": {
        "id": "OrPriNuv0P88"
      },
      "source": [
        "def load_image_diff_episodes(image_diff_output_type, data_dir):\n",
        "    if image_diff_output_type == \"mask\":\n",
        "        fn_prefix = \"image_diff_masks_\"\n",
        "    elif image_diff_output_type == \"masked_image\":\n",
        "        fn_prefix = \"image_diff_masked_\"\n",
        "\n",
        "    tr_episodes_filename = fn_prefix + \"train_new.npz\"\n",
        "    val_episodes_filename = fn_prefix + \"val_new.npz\"\n",
        "    test_episodes_filename = fn_prefix + \"test_new.npz\"\n",
        "\n",
        "    image_diff_tr_episodes = data_utils.load_npy(os.path.join(data_dir, tr_episodes_filename))\n",
        "    image_diff_val_episodes = data_utils.load_npy(os.path.join(data_dir, val_episodes_filename))\n",
        "    image_diff_test_episodes = data_utils.load_npy(os.path.join(data_dir, test_episodes_filename))\n",
        "\n",
        "    return image_diff_tr_episodes, image_diff_val_episodes, image_diff_test_episodes"
      ],
      "execution_count": 14,
      "outputs": []
    },
    {
      "cell_type": "code",
      "metadata": {
        "id": "qUMpeI_Wa3tq"
      },
      "source": [
        "def invert_episode_images(episodes):\n",
        "    inverted_episodes = []\n",
        "\n",
        "    for ep in episodes:\n",
        "        inverted_ep = []\n",
        "        for image in ep:\n",
        "            inverted_image = 255 - image\n",
        "            inverted_ep.append(inverted_image)\n",
        "        inverted_episodes.append(inverted_ep)\n",
        "\n",
        "    return inverted_episodes"
      ],
      "execution_count": 15,
      "outputs": []
    },
    {
      "cell_type": "markdown",
      "metadata": {
        "id": "hDin0cyouyzE"
      },
      "source": [
        "## Topk helper functions"
      ]
    },
    {
      "cell_type": "code",
      "metadata": {
        "id": "YQiTw9g-l3bL"
      },
      "source": [
        "def prepare_for_patching(mask, patch_type=(4, 4)):\n",
        "    h, w, c = mask.shape\n",
        "\n",
        "    if not h % patch_type[0] == 0:\n",
        "        num_rows_to_add = patch_type[0] - (h % patch_type[0])\n",
        "        num_rows_before = num_rows_to_add//2\n",
        "        num_rows_after = num_rows_to_add - num_rows_before\n",
        "\n",
        "        rows_before = mask[:num_rows_before, :, :]\n",
        "        rows_after = mask[-num_rows_after:, :, :]\n",
        "        mask = np.concatenate([rows_before, mask, rows_after], axis=0)\n",
        "    if not w % patch_type[1] == 0:\n",
        "        num_cols_to_add = patch_type[1] - (w % patch_type[1])\n",
        "        num_cols_before = num_cols_to_add//2\n",
        "        num_cols_after = num_cols_to_add - num_cols_before\n",
        "\n",
        "        cols_before = mask[:, :num_cols_before, :]\n",
        "        cols_after = mask[:, -num_cols_after:, :]\n",
        "        mask = np.concatenate([cols_before, mask, cols_after], axis=1)\n",
        "\n",
        "    return mask"
      ],
      "execution_count": 16,
      "outputs": []
    },
    {
      "cell_type": "code",
      "metadata": {
        "id": "jFVILQyWjrMp"
      },
      "source": [
        "def blockshaped(arr, nrows=54, ncols=40):\n",
        "    \"\"\"\n",
        "    Return an array of shape (n, nrows, ncols) where\n",
        "    n * nrows * ncols = arr.size\n",
        "\n",
        "    If arr is a 2D array, the returned array looks like n subblocks with\n",
        "    each subblock preserving the \"physical\" layout of arr.\n",
        "    \"\"\"\n",
        "    h, w, c = arr.shape\n",
        "    return (arr.reshape(h//nrows, nrows, -1, ncols, c)\n",
        "               .swapaxes(1,2)\n",
        "               .reshape(-1, nrows, ncols, c))\n",
        "\n",
        "def unblockshaped(arr, h, w):\n",
        "    \"\"\"\n",
        "    Return an array of shape (h, w) where\n",
        "    h * w = arr.size\n",
        "\n",
        "    If arr is of shape (n, nrows, ncols), n sublocks of shape (nrows, ncols),\n",
        "    then the returned array preserves the \"physical\" layout of the sublocks.\n",
        "    \"\"\"\n",
        "    n, nrows, ncols, c = arr.shape\n",
        "    return (arr.reshape(h//nrows, -1, nrows, ncols, c)\n",
        "               .swapaxes(1,2)\n",
        "               .reshape(h, w, c))"
      ],
      "execution_count": 17,
      "outputs": []
    },
    {
      "cell_type": "code",
      "metadata": {
        "id": "1ov7x16UwO5Q"
      },
      "source": [
        "# !pip install einops\n",
        "from skimage.util import view_as_blocks\n",
        "from sklearn.feature_extraction.image import reconstruct_from_patches_2d, extract_patches_2d\n",
        "# from einops.layers.torch import Rearrange\n",
        "\n",
        "def get_topk(img, K):\n",
        "    def get_best_patches(patches):\n",
        "        '''\n",
        "        Sort based on darkness\n",
        "        '''\n",
        "        N, H, W, C = patches.shape\n",
        "        patches = torch.from_numpy(patches)\n",
        "        patches = patches.view(N, C*H*W) # [N, d]\n",
        "        patches = patches.sum(1)\n",
        "        sorted_patch_ids = torch.topk(patches, k=K, dim=0, sorted=True).indices\n",
        "\n",
        "        return sorted_patch_ids\n",
        "\n",
        "    patches = blockshaped(img.numpy())\n",
        "    best_ids = get_best_patches(patches)\n",
        "\n",
        "    return best_ids, patches\n",
        "\n",
        "def get_topk_over_variable_size(img, K, patch_sizes=[(54, 40), (108, 80)]):\n",
        "    def get_patch_score(patch):\n",
        "        W, H, _ = patch.shape\n",
        "        score = patch.sum()/(W*H)\n",
        "\n",
        "        return score\n",
        "\n",
        "    def get_best_patches(patches):\n",
        "        '''\n",
        "        Sort based on darkness\n",
        "\n",
        "        Args:\n",
        "            patches: list of numpy image patches\n",
        "        '''\n",
        "        \n",
        "        patch_scores = [get_patch_score(p) for p in patches]\n",
        "        sorted_patch_ids = np.argsort(patch_scores)[::-1][:K]\n",
        "\n",
        "        return sorted_patch_ids\n",
        "\n",
        "    patches = []\n",
        "    stepwise_len_patches = []\n",
        "    for size in patch_sizes:\n",
        "        _patches = blockshaped(img, size[0], size[1])\n",
        "        patches += list(_patches)\n",
        "        stepwise_len_patches.append(len(patches))\n",
        "    \n",
        "    best_ids = get_best_patches(patches)\n",
        "\n",
        "    best_ids_by_size = [[] for _ in patch_sizes]\n",
        "\n",
        "    for id in best_ids:\n",
        "        patch_size_idx = bisect.bisect_right(stepwise_len_patches, id)\n",
        "        if patch_size_idx == 0:\n",
        "            id_by_size = id\n",
        "        else:\n",
        "            id_by_size = id - stepwise_len_patches[patch_size_idx-1]\n",
        "        best_ids_by_size[patch_size_idx].append(id_by_size)\n",
        "\n",
        "    return best_ids_by_size"
      ],
      "execution_count": 18,
      "outputs": []
    },
    {
      "cell_type": "markdown",
      "metadata": {
        "id": "DygFC5krCPt6"
      },
      "source": [
        "## Combine embeddings function"
      ]
    },
    {
      "cell_type": "code",
      "metadata": {
        "id": "B6mPKl-oyOJK"
      },
      "source": [
        "def combine_full_and_topk_patch_embeddings(\n",
        "    full_image_embeddings, \n",
        "    patch_embeddings_list, \n",
        "    patch_sizes_list,\n",
        "    num_patches_list,\n",
        "    image_diff_episodes,\n",
        "    K\n",
        "):\n",
        "    combined_embeddings = []\n",
        "\n",
        "    for ep_idx in range(len(image_diff_episodes)):\n",
        "        combined_ep = []\n",
        "\n",
        "        for im_idx in range(len(image_diff_episodes[ep_idx])):\n",
        "            embeddings_to_combine = [full_image_embeddings[ep_idx][im_idx]]\n",
        "\n",
        "            image_diff_im = image_diff_episodes[ep_idx][im_idx]\n",
        "            image_diff_im_3d = np.expand_dims(image_diff_im, 2)\n",
        "            \n",
        "            if 16 in num_patches_list:\n",
        "                image_diff_im_3d = prepare_for_patching(image_diff_im_3d, (4, 4))\n",
        "\n",
        "            selected_patch_ids_list = get_topk_over_variable_size(\n",
        "                image_diff_im_3d,\n",
        "                K,\n",
        "                patch_sizes_list\n",
        "            )\n",
        "\n",
        "            for size_idx, ids in enumerate(selected_patch_ids_list):\n",
        "                for id in ids:\n",
        "                    emb_idx = im_idx*num_patches_list[size_idx] + id\n",
        "                    embeddings_to_combine.append(\n",
        "                        patch_embeddings_list[size_idx][ep_idx][emb_idx]\n",
        "                    )\n",
        "            combined_embedding = torch.cat(embeddings_to_combine)\n",
        "            combined_ep.append(combined_embedding)\n",
        "        combined_embeddings.append(combined_ep)\n",
        "            \n",
        "    return combined_embeddings"
      ],
      "execution_count": 19,
      "outputs": []
    },
    {
      "cell_type": "markdown",
      "metadata": {
        "id": "jk6yj3Bh0b2d"
      },
      "source": [
        "# Initialization & constants"
      ]
    },
    {
      "cell_type": "markdown",
      "metadata": {
        "id": "IfChufKSBSDT"
      },
      "source": [
        "General"
      ]
    },
    {
      "cell_type": "code",
      "metadata": {
        "id": "rpby5Opx0gQ9"
      },
      "source": [
        "env_name = \"BreakoutNoFrameskip-v4\"\n",
        "collect_mode = \"random_agent\" # random_agent or ppo_agent\n",
        "steps = 50000\n",
        "training_input = \"embeddings\" # embeddings or images\n",
        "probe_type = \"linear\"\n",
        "use_encoder = False\n",
        "\n",
        "input_resolution1 = \"4x4patch\" # full-image, 4x4patch, 2x2patch\n",
        "of_patch_size1 = (53, 40)\n",
        "input_resolution2 = \"2x2patch\" # full-image, 4x4patch, 2x2patch\n",
        "of_patch_size2 = (106, 80)\n",
        "input_resolution3 = \"full-image\" # full-image, 4x4patch, 2x2patch\n",
        "num_patches1 = 16 # 4 = 2x2 patches\n",
        "num_patches2 = 4\n",
        "\n",
        "TOPK = 4"
      ],
      "execution_count": 20,
      "outputs": []
    },
    {
      "cell_type": "markdown",
      "metadata": {
        "id": "CwqPdjGCYU87"
      },
      "source": [
        "Encoder params"
      ]
    },
    {
      "cell_type": "code",
      "metadata": {
        "id": "sBEtBzgxYWxl"
      },
      "source": [
        "'''\n",
        "input_size = 512\n",
        "feature_size = 512\n",
        "\n",
        "e_lr = 3e-4\n",
        "e_batch_size = 64\n",
        "e_num_epochs = 200\n",
        "e_patience = 15\n",
        "\n",
        "gru_layers = 2\n",
        "gru_size = 256\n",
        "seq_len = 100\n",
        "steps_start = 0\n",
        "steps_end = 99\n",
        "steps_step = 4\n",
        "'''\n",
        "\n",
        "encoder_training_method = \"image_diff\"\n",
        "encoder_type = \"opencv\"\n",
        "model_name = encoder_training_method + '-' + encoder_type\n",
        "train_encoder = False\n",
        "\n",
        "feature_size = 512 * (TOPK + 1) # + 1 for full image \n",
        "input_channels = 3"
      ],
      "execution_count": 21,
      "outputs": []
    },
    {
      "cell_type": "markdown",
      "metadata": {
        "id": "aQTwiUsKBTbZ"
      },
      "source": [
        "Probe Params"
      ]
    },
    {
      "cell_type": "code",
      "metadata": {
        "id": "3FOz9sYkBWUQ"
      },
      "source": [
        "p_lr = 3e-4\n",
        "p_batch_size = 64\n",
        "p_num_epochs = 100\n",
        "p_patience = 15\n",
        "\n",
        "probe_type = \"linear\"\n",
        "probe_name_suffix = \"-ImageDiffOutput-PatchSelection-K\"+str(TOPK)\n",
        "probe_name = encoder_training_method + \"-\" + encoder_type + \"-\" + probe_type + probe_name_suffix"
      ],
      "execution_count": 22,
      "outputs": []
    },
    {
      "cell_type": "markdown",
      "metadata": {
        "id": "vCALvK8WBFJI"
      },
      "source": [
        "Paths"
      ]
    },
    {
      "cell_type": "code",
      "metadata": {
        "id": "ruZNWP8LBGxf"
      },
      "source": [
        "data_path_suffix = \"-latest-04-05-2021\"\n",
        "\n",
        "probe_models_dir = os.path.join(\"drive/MyDrive/PAL_HILL_2021/Atari-RL/Models/probes\", probe_name, env_name)\n",
        "encoder_models_dir = os.path.join(\"drive/MyDrive/PAL_HILL_2021/Atari-RL/Models/encoders\", encoder_type, env_name)\n",
        "data_dir = os.path.join(\"/content/drive/MyDrive/PAL_HILL_2021/Atari-RL/Images_Labels_Clip_embeddings\", env_name + data_path_suffix)"
      ],
      "execution_count": 23,
      "outputs": []
    },
    {
      "cell_type": "code",
      "metadata": {
        "id": "36Qr3NxlCuXQ"
      },
      "source": [
        "if not os.path.exists(probe_models_dir):\n",
        "  os.makedirs(probe_models_dir)\n",
        "\n",
        "if not os.path.exists(encoder_models_dir):\n",
        "  os.makedirs(encoder_models_dir)"
      ],
      "execution_count": 24,
      "outputs": []
    },
    {
      "cell_type": "markdown",
      "metadata": {
        "id": "jPK00s_FBIeM"
      },
      "source": [
        "Wandb"
      ]
    },
    {
      "cell_type": "code",
      "metadata": {
        "id": "xUiSPTKw_27r",
        "colab": {
          "base_uri": "https://localhost:8080/",
          "height": 136
        },
        "outputId": "7898d853-8173-49c8-d7ff-0e7a143ba337"
      },
      "source": [
        "wandb.init(project='atari-clip')\n",
        "\n",
        "config = wandb.config\n",
        "config.game  = \"{}-image-diff-output-linear-probe-patchselection-K{}\".format(env_name.replace(\"NoFrameskip-v4\", \"\"), TOPK)\n",
        "wandb.run.name = \"{}_image_diff_output_linear_patchselection_K{}\".format(env_name.replace(\"NoFrameskip-v4\", \"\"), TOPK)"
      ],
      "execution_count": 25,
      "outputs": [
        {
          "output_type": "stream",
          "text": [
            "\u001b[34m\u001b[1mwandb\u001b[0m: Currently logged in as: \u001b[33mpal-mit\u001b[0m (use `wandb login --relogin` to force relogin)\n"
          ],
          "name": "stderr"
        },
        {
          "output_type": "display_data",
          "data": {
            "text/html": [
              "\n",
              "                Tracking run with wandb version 0.10.31<br/>\n",
              "                Syncing run <strong style=\"color:#cdcd00\">woven-brook-1802</strong> to <a href=\"https://wandb.ai\" target=\"_blank\">Weights & Biases</a> <a href=\"https://docs.wandb.com/integrations/jupyter.html\" target=\"_blank\">(Documentation)</a>.<br/>\n",
              "                Project page: <a href=\"https://wandb.ai/pal-mit/atari-clip\" target=\"_blank\">https://wandb.ai/pal-mit/atari-clip</a><br/>\n",
              "                Run page: <a href=\"https://wandb.ai/pal-mit/atari-clip/runs/2252zgpv\" target=\"_blank\">https://wandb.ai/pal-mit/atari-clip/runs/2252zgpv</a><br/>\n",
              "                Run data is saved locally in <code>/content/wandb/run-20210609_152149-2252zgpv</code><br/><br/>\n",
              "            "
            ],
            "text/plain": [
              "<IPython.core.display.HTML object>"
            ]
          },
          "metadata": {
            "tags": []
          }
        }
      ]
    },
    {
      "cell_type": "markdown",
      "metadata": {
        "id": "mHaszfk5Dafg"
      },
      "source": [
        "Image diff output"
      ]
    },
    {
      "cell_type": "code",
      "metadata": {
        "id": "ts-lAExyDaOp"
      },
      "source": [
        "image_diff_output_type = \"mask\""
      ],
      "execution_count": 26,
      "outputs": []
    },
    {
      "cell_type": "markdown",
      "metadata": {
        "id": "BvYI4z8ohR8a"
      },
      "source": [
        "# Combine embeddings"
      ]
    },
    {
      "cell_type": "markdown",
      "metadata": {
        "id": "gTe4fgqRFfK7"
      },
      "source": [
        "## Process optical flow output files"
      ]
    },
    {
      "cell_type": "markdown",
      "metadata": {
        "id": "T8L-iuCvFTIL"
      },
      "source": [
        "### Load files"
      ]
    },
    {
      "cell_type": "code",
      "metadata": {
        "id": "Vp-8jsCPyymz"
      },
      "source": [
        "# Combine mask files (ran in batches of half the size to avoid colab ram overload)\n",
        "train_filename = \"image_diff_masks_train_new.npz\"\n",
        "\n",
        "if not train_filename in os.listdir(data_dir):\n",
        "    train_filenames = [\"image_diff_masks_train_half_new.npz\", \"image_diff_masks_train_half2_new.npz\"]\n",
        "\n",
        "    train_list = []\n",
        "    for fn in train_filenames:\n",
        "        tl = list(data_utils.load_npy(os.path.join(data_dir, fn)))\n",
        "        print(len(tl))\n",
        "        train_list += tl\n",
        "\n",
        "    print(len(train_list))\n",
        "\n",
        "    np.savez(os.path.join(data_dir, train_filename), train_list)"
      ],
      "execution_count": 27,
      "outputs": []
    },
    {
      "cell_type": "code",
      "metadata": {
        "id": "5eYIW39-1bmL",
        "colab": {
          "base_uri": "https://localhost:8080/"
        },
        "outputId": "e85e1b26-b625-47b5-c575-347b37175ace"
      },
      "source": [
        "(image_diff_tr_episodes, \n",
        " image_diff_val_episodes, \n",
        " image_diff_test_episodes) = load_image_diff_episodes(image_diff_output_type, data_dir)"
      ],
      "execution_count": 28,
      "outputs": [
        {
          "output_type": "stream",
          "text": [
            "Data loaded from /content/drive/MyDrive/PAL_HILL_2021/Atari-RL/Images_Labels_Clip_embeddings/BreakoutNoFrameskip-v4-latest-04-05-2021/image_diff_masks_train_new.npz\n",
            "Data loaded from /content/drive/MyDrive/PAL_HILL_2021/Atari-RL/Images_Labels_Clip_embeddings/BreakoutNoFrameskip-v4-latest-04-05-2021/image_diff_masks_val_new.npz\n",
            "Data loaded from /content/drive/MyDrive/PAL_HILL_2021/Atari-RL/Images_Labels_Clip_embeddings/BreakoutNoFrameskip-v4-latest-04-05-2021/image_diff_masks_test_new.npz\n"
          ],
          "name": "stdout"
        }
      ]
    },
    {
      "cell_type": "markdown",
      "metadata": {
        "id": "9lPWQpchFP9l"
      },
      "source": [
        "### Invert optical flow outputs"
      ]
    },
    {
      "cell_type": "code",
      "metadata": {
        "id": "oI4Kf0yqczOT"
      },
      "source": [
        "inverted_tr_episodes = invert_episode_images(image_diff_tr_episodes)\n",
        "del image_diff_tr_episodes"
      ],
      "execution_count": 29,
      "outputs": []
    },
    {
      "cell_type": "code",
      "metadata": {
        "id": "3czjiBM1dBhG"
      },
      "source": [
        "inverted_val_episodes = invert_episode_images(image_diff_val_episodes)\n",
        "del image_diff_val_episodes"
      ],
      "execution_count": 30,
      "outputs": []
    },
    {
      "cell_type": "code",
      "metadata": {
        "id": "4gI0NmGSbsHW"
      },
      "source": [
        "inverted_test_episodes = invert_episode_images(image_diff_test_episodes)\n",
        "del image_diff_test_episodes"
      ],
      "execution_count": 31,
      "outputs": []
    },
    {
      "cell_type": "code",
      "metadata": {
        "id": "R-g2F457w5gK",
        "colab": {
          "base_uri": "https://localhost:8080/"
        },
        "outputId": "ee432917-31c3-4165-c5b2-730170a7980d"
      },
      "source": [
        "print(len(inverted_tr_episodes), len(inverted_val_episodes), len(inverted_test_episodes))\n",
        "print (len(inverted_tr_episodes[0]), inverted_tr_episodes[0][0].shape)"
      ],
      "execution_count": 32,
      "outputs": [
        {
          "output_type": "stream",
          "text": [
            "166 24 48\n",
            "127 (210, 160)\n"
          ],
          "name": "stdout"
        }
      ]
    },
    {
      "cell_type": "markdown",
      "metadata": {
        "id": "qM7sReFVFLWj"
      },
      "source": [
        "### Visualise inverted outputs"
      ]
    },
    {
      "cell_type": "code",
      "metadata": {
        "id": "a6Bnstw0Fxh0",
        "colab": {
          "base_uri": "https://localhost:8080/",
          "height": 562
        },
        "outputId": "4083bfcd-dfcf-489c-c87b-8f2def52b563"
      },
      "source": [
        "fig = plt.figure(figsize=(10, 10))\n",
        "\n",
        "for i, item in enumerate(inverted_tr_episodes[10]):\n",
        "    fig.add_subplot(3, 5, i+1)\n",
        "    plt.imshow(item)\n",
        "\n",
        "    if i == 14:\n",
        "        break\n",
        "\n",
        "plt.show()"
      ],
      "execution_count": 33,
      "outputs": [
        {
          "output_type": "display_data",
          "data": {
            "image/png": "[encoded data removed]",
            "text/plain": [
              "<Figure size 720x720 with 15 Axes>"
            ]
          },
          "metadata": {
            "tags": [],
            "needs_background": "light"
          }
        }
      ]
    },
    {
      "cell_type": "markdown",
      "metadata": {
        "id": "ZSU5ENnGCuPH"
      },
      "source": [
        "## Patch selection and embedding creation"
      ]
    },
    {
      "cell_type": "markdown",
      "metadata": {
        "id": "GXYHN7VBu1OF"
      },
      "source": [
        "### Example"
      ]
    },
    {
      "cell_type": "code",
      "metadata": {
        "colab": {
          "base_uri": "https://localhost:8080/",
          "height": 1000
        },
        "id": "X52Yxd7Ljt3h",
        "outputId": "155a5579-4f9e-4f36-953d-8f72b48419f1"
      },
      "source": [
        "for _ in range(10):\n",
        "    ep_idx = np.random.randint(len(inverted_tr_episodes))\n",
        "    im_idx = np.random.randint(len(inverted_tr_episodes[ep_idx]))\n",
        "    im = inverted_tr_episodes[ep_idx][im_idx]\n",
        "    im_3d = np.expand_dims(im, 2)\n",
        "    plt.imshow(im)\n",
        "    plt.show()\n",
        "\n",
        "    im_3d_4x4 = prepare_for_patching(im_3d)\n",
        "    patched_im_4x4 = blockshaped(im_3d_4x4, 53, 40)\n",
        "\n",
        "    for i, p in enumerate(patched_im_4x4):\n",
        "        plt.subplot(4, 4, i+1)\n",
        "        plt.imshow(p[:, :, 0])\n",
        "\n",
        "    plt.show()\n",
        "\n",
        "    patched_im_2x2 = blockshaped(im_3d_4x4, 106, 80)\n",
        "\n",
        "    for i, p in enumerate(patched_im_2x2):\n",
        "        plt.subplot(2, 2, i+1)\n",
        "        plt.imshow(p[:, :, 0])\n",
        "\n",
        "    plt.show()\n",
        "\n",
        "    patch_sizes = [(53, 40), (106, 80)]\n",
        "\n",
        "    ids = get_topk_over_variable_size(im_3d_4x4, TOPK, patch_sizes)\n",
        "\n",
        "    print(\"Selected patch ids - \", ids)"
      ],
      "execution_count": 34,
      "outputs": [
        {
          "output_type": "display_data",
          "data": {
            "image/png": "[encoded data removed]",
            "text/plain": [
              "<Figure size 432x288 with 1 Axes>"
            ]
          },
          "metadata": {
            "tags": [],
            "needs_background": "light"
          }
        },
        {
          "output_type": "display_data",
          "data": {
            "image/png": "[encoded data removed]",
            "text/plain": [
              "<Figure size 432x288 with 16 Axes>"
            ]
          },
          "metadata": {
            "tags": [],
            "needs_background": "light"
          }
        },
        {
          "output_type": "display_data",
          "data": {
            "image/png": "[encoded data removed]",
            "text/plain": [
              "<Figure size 432x288 with 4 Axes>"
            ]
          },
          "metadata": {
            "tags": [],
            "needs_background": "light"
          }
        },
        {
          "output_type": "stream",
          "text": [
            "Selected patch ids -  [[15, 10, 14], [3]]\n"
          ],
          "name": "stdout"
        },
        {
          "output_type": "display_data",
          "data": {
            "image/png": "[encoded data removed]",
            "text/plain": [
              "<Figure size 432x288 with 1 Axes>"
            ]
          },
          "metadata": {
            "tags": [],
            "needs_background": "light"
          }
        },
        {
          "output_type": "display_data",
          "data": {
            "image/png": "[encoded data removed]",
            "text/plain": [
              "<Figure size 432x288 with 16 Axes>"
            ]
          },
          "metadata": {
            "tags": [],
            "needs_background": "light"
          }
        },
        {
          "output_type": "display_data",
          "data": {
            "image/png": "[encoded data removed]",
            "text/plain": [
              "<Figure size 432x288 with 4 Axes>"
            ]
          },
          "metadata": {
            "tags": [],
            "needs_background": "light"
          }
        },
        {
          "output_type": "stream",
          "text": [
            "Selected patch ids -  [[12, 14, 8], [2]]\n"
          ],
          "name": "stdout"
        },
        {
          "output_type": "display_data",
          "data": {
            "image/png": "[encoded data removed]",
            "text/plain": [
              "<Figure size 432x288 with 1 Axes>"
            ]
          },
          "metadata": {
            "tags": [],
            "needs_background": "light"
          }
        },
        {
          "output_type": "display_data",
          "data": {
            "image/png": "[encoded data removed]",
            "text/plain": [
              "<Figure size 432x288 with 16 Axes>"
            ]
          },
          "metadata": {
            "tags": [],
            "needs_background": "light"
          }
        },
        {
          "output_type": "display_data",
          "data": {
            "image/png": "[encoded data removed]",
            "text/plain": [
              "<Figure size 432x288 with 4 Axes>"
            ]
          },
          "metadata": {
            "tags": [],
            "needs_background": "light"
          }
        },
        {
          "output_type": "stream",
          "text": [
            "Selected patch ids -  [[14, 15, 11], [3]]\n"
          ],
          "name": "stdout"
        },
        {
          "output_type": "display_data",
          "data": {
            "image/png": "[encoded data removed]",
            "text/plain": [
              "<Figure size 432x288 with 1 Axes>"
            ]
          },
          "metadata": {
            "tags": [],
            "needs_background": "light"
          }
        },
        {
          "output_type": "display_data",
          "data": {
            "image/png": "[encoded data removed]",
            "text/plain": [
              "<Figure size 432x288 with 16 Axes>"
            ]
          },
          "metadata": {
            "tags": [],
            "needs_background": "light"
          }
        },
        {
          "output_type": "display_data",
          "data": {
            "image/png": "[encoded data removed]",
            "text/plain": [
              "<Figure size 432x288 with 4 Axes>"
            ]
          },
          "metadata": {
            "tags": [],
            "needs_background": "light"
          }
        },
        {
          "output_type": "stream",
          "text": [
            "Selected patch ids -  [[8, 4], [2, 0]]\n"
          ],
          "name": "stdout"
        },
        {
          "output_type": "display_data",
          "data": {
            "image/png": "[encoded data removed]",
            "text/plain": [
              "<Figure size 432x288 with 1 Axes>"
            ]
          },
          "metadata": {
            "tags": [],
            "needs_background": "light"
          }
        },
        {
          "output_type": "display_data",
          "data": {
            "image/png": "[encoded data removed]",
            "text/plain": [
              "<Figure size 432x288 with 16 Axes>"
            ]
          },
          "metadata": {
            "tags": [],
            "needs_background": "light"
          }
        },
        {
          "output_type": "display_data",
          "data": {
            "image/png": "[encoded data removed]",
            "text/plain": [
              "<Figure size 432x288 with 4 Axes>"
            ]
          },
          "metadata": {
            "tags": [],
            "needs_background": "light"
          }
        },
        {
          "output_type": "stream",
          "text": [
            "Selected patch ids -  [[9, 15, 10], [3]]\n"
          ],
          "name": "stdout"
        },
        {
          "output_type": "display_data",
          "data": {
            "image/png": "[encoded data removed]",
            "text/plain": [
              "<Figure size 432x288 with 1 Axes>"
            ]
          },
          "metadata": {
            "tags": [],
            "needs_background": "light"
          }
        },
        {
          "output_type": "display_data",
          "data": {
            "image/png": "[encoded data removed]",
            "text/plain": [
              "<Figure size 432x288 with 16 Axes>"
            ]
          },
          "metadata": {
            "tags": [],
            "needs_background": "light"
          }
        },
        {
          "output_type": "display_data",
          "data": {
            "image/png": "[encoded data removed]",
            "text/plain": [
              "<Figure size 432x288 with 4 Axes>"
            ]
          },
          "metadata": {
            "tags": [],
            "needs_background": "light"
          }
        },
        {
          "output_type": "stream",
          "text": [
            "Selected patch ids -  [[15, 10, 14], [3]]\n"
          ],
          "name": "stdout"
        },
        {
          "output_type": "display_data",
          "data": {
            "image/png": "[encoded data removed]",
            "text/plain": [
              "<Figure size 432x288 with 1 Axes>"
            ]
          },
          "metadata": {
            "tags": [],
            "needs_background": "light"
          }
        },
        {
          "output_type": "display_data",
          "data": {
            "image/png": "[encoded data removed]",
            "text/plain": [
              "<Figure size 432x288 with 16 Axes>"
            ]
          },
          "metadata": {
            "tags": [],
            "needs_background": "light"
          }
        },
        {
          "output_type": "display_data",
          "data": {
            "image/png": "[encoded data removed]",
            "text/plain": [
              "<Figure size 432x288 with 4 Axes>"
            ]
          },
          "metadata": {
            "tags": [],
            "needs_background": "light"
          }
        },
        {
          "output_type": "stream",
          "text": [
            "Selected patch ids -  [[15, 14, 10], [3]]\n"
          ],
          "name": "stdout"
        },
        {
          "output_type": "display_data",
          "data": {
            "image/png": "[encoded data removed]",
            "text/plain": [
              "<Figure size 432x288 with 1 Axes>"
            ]
          },
          "metadata": {
            "tags": [],
            "needs_background": "light"
          }
        },
        {
          "output_type": "display_data",
          "data": {
            "image/png": "[encoded data removed]",
            "text/plain": [
              "<Figure size 432x288 with 16 Axes>"
            ]
          },
          "metadata": {
            "tags": [],
            "needs_background": "light"
          }
        },
        {
          "output_type": "display_data",
          "data": {
            "image/png": "[encoded data removed]",
            "text/plain": [
              "<Figure size 432x288 with 4 Axes>"
            ]
          },
          "metadata": {
            "tags": [],
            "needs_background": "light"
          }
        },
        {
          "output_type": "stream",
          "text": [
            "Selected patch ids -  [[13, 12, 15], [2]]\n"
          ],
          "name": "stdout"
        },
        {
          "output_type": "display_data",
          "data": {
            "image/png": "[encoded data removed]",
            "text/plain": [
              "<Figure size 432x288 with 1 Axes>"
            ]
          },
          "metadata": {
            "tags": [],
            "needs_background": "light"
          }
        },
        {
          "output_type": "display_data",
          "data": {
            "image/png": "[encoded data removed]",
            "text/plain": [
              "<Figure size 432x288 with 16 Axes>"
            ]
          },
          "metadata": {
            "tags": [],
            "needs_background": "light"
          }
        },
        {
          "output_type": "display_data",
          "data": {
            "image/png": "[encoded data removed]",
            "text/plain": [
              "<Figure size 432x288 with 4 Axes>"
            ]
          },
          "metadata": {
            "tags": [],
            "needs_background": "light"
          }
        },
        {
          "output_type": "stream",
          "text": [
            "Selected patch ids -  [[13, 1, 7, 14], []]\n"
          ],
          "name": "stdout"
        },
        {
          "output_type": "display_data",
          "data": {
            "image/png": "[encoded data removed]",
            "text/plain": [
              "<Figure size 432x288 with 1 Axes>"
            ]
          },
          "metadata": {
            "tags": [],
            "needs_background": "light"
          }
        },
        {
          "output_type": "display_data",
          "data": {
            "image/png": "[encoded data removed]",
            "text/plain": [
              "<Figure size 432x288 with 16 Axes>"
            ]
          },
          "metadata": {
            "tags": [],
            "needs_background": "light"
          }
        },
        {
          "output_type": "display_data",
          "data": {
            "image/png": "[encoded data removed]",
            "text/plain": [
              "<Figure size 432x288 with 4 Axes>"
            ]
          },
          "metadata": {
            "tags": [],
            "needs_background": "light"
          }
        },
        {
          "output_type": "stream",
          "text": [
            "Selected patch ids -  [[13, 4, 12], [2]]\n"
          ],
          "name": "stdout"
        }
      ]
    },
    {
      "cell_type": "markdown",
      "metadata": {
        "id": "rSXO3yRBvN5y"
      },
      "source": [
        "### Get patch embeddings"
      ]
    },
    {
      "cell_type": "code",
      "metadata": {
        "id": "X3EVGErgRO8N",
        "colab": {
          "base_uri": "https://localhost:8080/"
        },
        "outputId": "6791796d-34df-4b30-a7e9-eb2c07ea4da4"
      },
      "source": [
        "tr_episodes_patches, val_episodes_patches,\\\n",
        "tr_labels, val_labels,\\\n",
        "test_episodes_patches, test_labels = data_utils.get_data(training_input, data_dir, env_name=env_name, steps=steps, collect_mode=collect_mode, color=True, input_resolution=input_resolution1)"
      ],
      "execution_count": 35,
      "outputs": [
        {
          "output_type": "stream",
          "text": [
            "Data loaded from /content/drive/MyDrive/PAL_HILL_2021/Atari-RL/Images_Labels_Clip_embeddings/BreakoutNoFrameskip-v4-latest-04-05-2021/train_labels.npz\n",
            "Data loaded from /content/drive/MyDrive/PAL_HILL_2021/Atari-RL/Images_Labels_Clip_embeddings/BreakoutNoFrameskip-v4-latest-04-05-2021/val_labels.npz\n",
            "Data loaded from /content/drive/MyDrive/PAL_HILL_2021/Atari-RL/Images_Labels_Clip_embeddings/BreakoutNoFrameskip-v4-latest-04-05-2021/test_labels.npz\n"
          ],
          "name": "stdout"
        }
      ]
    },
    {
      "cell_type": "code",
      "metadata": {
        "id": "SViPJiqMkGmu",
        "colab": {
          "base_uri": "https://localhost:8080/"
        },
        "outputId": "718acfd8-f79e-49b7-cf5d-8331164b0480"
      },
      "source": [
        "tr_episodes_patches2, val_episodes_patches2,\\\n",
        "tr_labels, val_labels,\\\n",
        "test_episodes_patches2, test_labels = data_utils.get_data(training_input, data_dir, env_name=env_name, steps=steps, collect_mode=collect_mode, color=True, input_resolution=input_resolution2)"
      ],
      "execution_count": 36,
      "outputs": [
        {
          "output_type": "stream",
          "text": [
            "Data loaded from /content/drive/MyDrive/PAL_HILL_2021/Atari-RL/Images_Labels_Clip_embeddings/BreakoutNoFrameskip-v4-latest-04-05-2021/train_labels.npz\n",
            "Data loaded from /content/drive/MyDrive/PAL_HILL_2021/Atari-RL/Images_Labels_Clip_embeddings/BreakoutNoFrameskip-v4-latest-04-05-2021/val_labels.npz\n",
            "Data loaded from /content/drive/MyDrive/PAL_HILL_2021/Atari-RL/Images_Labels_Clip_embeddings/BreakoutNoFrameskip-v4-latest-04-05-2021/test_labels.npz\n"
          ],
          "name": "stdout"
        }
      ]
    },
    {
      "cell_type": "code",
      "metadata": {
        "id": "wchKmv-20ayt",
        "colab": {
          "base_uri": "https://localhost:8080/"
        },
        "outputId": "6d47dce2-23cc-4ee0-d643-830285496aab"
      },
      "source": [
        "tr_episodes_full, val_episodes_full,\\\n",
        "tr_labels, val_labels,\\\n",
        "test_episodes_full, test_labels = data_utils.get_data(training_input, data_dir, env_name=env_name, steps=steps, collect_mode=collect_mode, color=True, input_resolution=input_resolution3)"
      ],
      "execution_count": 37,
      "outputs": [
        {
          "output_type": "stream",
          "text": [
            "Data loaded from /content/drive/MyDrive/PAL_HILL_2021/Atari-RL/Images_Labels_Clip_embeddings/BreakoutNoFrameskip-v4-latest-04-05-2021/train_labels.npz\n",
            "Data loaded from /content/drive/MyDrive/PAL_HILL_2021/Atari-RL/Images_Labels_Clip_embeddings/BreakoutNoFrameskip-v4-latest-04-05-2021/val_labels.npz\n",
            "Data loaded from /content/drive/MyDrive/PAL_HILL_2021/Atari-RL/Images_Labels_Clip_embeddings/BreakoutNoFrameskip-v4-latest-04-05-2021/test_labels.npz\n"
          ],
          "name": "stdout"
        }
      ]
    },
    {
      "cell_type": "code",
      "metadata": {
        "id": "z5J_kPoz5U4Y",
        "colab": {
          "base_uri": "https://localhost:8080/"
        },
        "outputId": "3b009367-65cb-439d-b35b-dad1d658e4f3"
      },
      "source": [
        "print(len(tr_episodes_patches[0]), len(tr_episodes_patches2[0]), len(tr_episodes_full[0]))\n",
        "tr_episodes_full[0][0].shape"
      ],
      "execution_count": 38,
      "outputs": [
        {
          "output_type": "stream",
          "text": [
            "2032 508 127\n"
          ],
          "name": "stdout"
        },
        {
          "output_type": "execute_result",
          "data": {
            "text/plain": [
              "torch.Size([512])"
            ]
          },
          "metadata": {
            "tags": []
          },
          "execution_count": 38
        }
      ]
    },
    {
      "cell_type": "markdown",
      "metadata": {
        "id": "PYCgw_OMEjZW"
      },
      "source": [
        "### Combine embeddings"
      ]
    },
    {
      "cell_type": "code",
      "metadata": {
        "id": "Eprw81W-97Rx",
        "colab": {
          "base_uri": "https://localhost:8080/"
        },
        "outputId": "05ba116b-4f27-4afb-b840-fd68c7bcbe37"
      },
      "source": [
        "combined_tr_embeddings = combine_full_and_topk_patch_embeddings(\n",
        "    tr_episodes_full,\n",
        "    [tr_episodes_patches, tr_episodes_patches2],\n",
        "    [of_patch_size1, of_patch_size2],\n",
        "    [num_patches1, num_patches2],\n",
        "    inverted_tr_episodes,\n",
        "    TOPK\n",
        ")\n",
        "\n",
        "print(len(combined_tr_embeddings), combined_tr_embeddings[0][0].shape)"
      ],
      "execution_count": 39,
      "outputs": [
        {
          "output_type": "stream",
          "text": [
            "166 torch.Size([2560])\n"
          ],
          "name": "stdout"
        }
      ]
    },
    {
      "cell_type": "code",
      "metadata": {
        "id": "G9tuv1dPAZbC",
        "colab": {
          "base_uri": "https://localhost:8080/"
        },
        "outputId": "32be0e02-714d-43e3-eacf-ec9bb067cd83"
      },
      "source": [
        "combined_val_embeddings = combine_full_and_topk_patch_embeddings(\n",
        "    val_episodes_full,\n",
        "    [val_episodes_patches, val_episodes_patches2],\n",
        "    [of_patch_size1, of_patch_size2],\n",
        "    [num_patches1, num_patches2],\n",
        "    inverted_val_episodes,\n",
        "    TOPK\n",
        ")\n",
        "\n",
        "print(len(combined_val_embeddings), combined_val_embeddings[0][0].shape)"
      ],
      "execution_count": 40,
      "outputs": [
        {
          "output_type": "stream",
          "text": [
            "24 torch.Size([2560])\n"
          ],
          "name": "stdout"
        }
      ]
    },
    {
      "cell_type": "code",
      "metadata": {
        "id": "V4chH5J6AZ5T",
        "colab": {
          "base_uri": "https://localhost:8080/"
        },
        "outputId": "1e274829-1186-4349-bda8-df349d96bc64"
      },
      "source": [
        "combined_test_embeddings = combine_full_and_topk_patch_embeddings(\n",
        "    test_episodes_full,\n",
        "    [test_episodes_patches, test_episodes_patches2],\n",
        "    [of_patch_size1, of_patch_size2],\n",
        "    [num_patches1, num_patches2],\n",
        "    inverted_test_episodes,\n",
        "    TOPK\n",
        ")\n",
        "\n",
        "print(len(combined_test_embeddings), combined_test_embeddings[0][0].shape)"
      ],
      "execution_count": 41,
      "outputs": [
        {
          "output_type": "stream",
          "text": [
            "48 torch.Size([2560])\n"
          ],
          "name": "stdout"
        }
      ]
    },
    {
      "cell_type": "markdown",
      "metadata": {
        "id": "7f4nwu_1NSXp"
      },
      "source": [
        "# Get trained encoder\n"
      ]
    },
    {
      "cell_type": "markdown",
      "metadata": {
        "id": "2KngNysfq2UF"
      },
      "source": [
        "Instantiate encoder"
      ]
    },
    {
      "cell_type": "code",
      "metadata": {
        "id": "vTMnF0hoq8BE",
        "colab": {
          "base_uri": "https://localhost:8080/",
          "height": 0
        },
        "outputId": "7c8b8605-6eb7-4cb0-c728-7b7fda2b7e4a"
      },
      "source": [
        "'''\n",
        "device = \"cuda\" if torch.cuda.is_available() else \"cpu\"\n",
        "rep_encoder = LinearCPCEncoder(input_size, feature_size)\n",
        "rep_encoder.to(device)\n",
        "'''"
      ],
      "execution_count": 42,
      "outputs": [
        {
          "output_type": "execute_result",
          "data": {
            "application/vnd.google.colaboratory.intrinsic+json": {
              "type": "string"
            },
            "text/plain": [
              "'\\ndevice = \"cuda\" if torch.cuda.is_available() else \"cpu\"\\nrep_encoder = LinearCPCEncoder(input_size, feature_size)\\nrep_encoder.to(device)\\n'"
            ]
          },
          "metadata": {
            "tags": []
          },
          "execution_count": 42
        }
      ]
    },
    {
      "cell_type": "markdown",
      "metadata": {
        "id": "twblPXcHq8zh"
      },
      "source": [
        "Get encoder (Train/Retrieve from drive)"
      ]
    },
    {
      "cell_type": "code",
      "metadata": {
        "id": "honX4r03UCLc",
        "colab": {
          "base_uri": "https://localhost:8080/",
          "height": 0
        },
        "outputId": "c83d3ab4-89a4-48b4-dab7-fa7c26fa668c"
      },
      "source": [
        "'''\n",
        "config = {}\n",
        "config['epochs'] = e_num_epochs\n",
        "config['lr'] = e_lr\n",
        "config['patience'] = e_patience\n",
        "config['batch_size'] = e_batch_size\n",
        "config['save_dir'] = encoder_models_dir\n",
        "config['model_name'] = model_name\n",
        "config['steps_start'] = steps_start\n",
        "config['steps_end'] = steps_end\n",
        "config['steps_step'] = steps_step\n",
        "config['gru_layers'] = gru_layers\n",
        "config['gru_size'] = gru_size\n",
        "config['sequence_length'] = seq_len\n",
        "config['env_name'] = env_name\n",
        "'''"
      ],
      "execution_count": 43,
      "outputs": [
        {
          "output_type": "execute_result",
          "data": {
            "application/vnd.google.colaboratory.intrinsic+json": {
              "type": "string"
            },
            "text/plain": [
              "\"\\nconfig = {}\\nconfig['epochs'] = e_num_epochs\\nconfig['lr'] = e_lr\\nconfig['patience'] = e_patience\\nconfig['batch_size'] = e_batch_size\\nconfig['save_dir'] = encoder_models_dir\\nconfig['model_name'] = model_name\\nconfig['steps_start'] = steps_start\\nconfig['steps_end'] = steps_end\\nconfig['steps_step'] = steps_step\\nconfig['gru_layers'] = gru_layers\\nconfig['gru_size'] = gru_size\\nconfig['sequence_length'] = seq_len\\nconfig['env_name'] = env_name\\n\""
            ]
          },
          "metadata": {
            "tags": []
          },
          "execution_count": 43
        }
      ]
    },
    {
      "cell_type": "code",
      "metadata": {
        "id": "nQzGMmAb6IS0",
        "colab": {
          "base_uri": "https://localhost:8080/"
        },
        "outputId": "625d88e4-7fb1-41c3-ef6c-76cee6c2cc9e"
      },
      "source": [
        "trained_encoder = ClipEncoder(input_channels=input_channels, feature_size=feature_size)"
      ],
      "execution_count": 44,
      "outputs": [
        {
          "output_type": "stream",
          "text": [
            "100%|████████████████████████████████████████| 354M/354M [00:01<00:00, 186MiB/s]\n"
          ],
          "name": "stderr"
        }
      ]
    },
    {
      "cell_type": "markdown",
      "metadata": {
        "id": "XqbNrfT33lCD"
      },
      "source": [
        "# Run probe training"
      ]
    },
    {
      "cell_type": "markdown",
      "metadata": {
        "id": "7_iG87ofuEs_"
      },
      "source": [
        "## Run training"
      ]
    },
    {
      "cell_type": "code",
      "metadata": {
        "id": "eZsKUk_Jv66P",
        "colab": {
          "base_uri": "https://localhost:8080/"
        },
        "outputId": "7b2a7741-6498-4b10-bf61-3ec9f3ef89d2"
      },
      "source": [
        "os.chdir(\"/content\")\n",
        "\n",
        "run_probe_training(training_input, trained_encoder, probe_type, p_num_epochs, p_lr, p_patience, wandb, probe_models_dir, p_batch_size, \n",
        "           combined_tr_embeddings, combined_val_embeddings, tr_labels, val_labels, combined_test_embeddings, test_labels, use_encoder=use_encoder)"
      ],
      "execution_count": 45,
      "outputs": [
        {
          "output_type": "stream",
          "text": [
            "K: ball_x, Loaded path: drive/MyDrive/PAL_HILL_2021/Atari-RL/Models/probes/image_diff-opencv-linear-ImageDiffOutput-PatchSelection-K4/BreakoutNoFrameskip-v4/ball_x_100.pt\n",
            "K: ball_y, Loaded path: drive/MyDrive/PAL_HILL_2021/Atari-RL/Models/probes/image_diff-opencv-linear-ImageDiffOutput-PatchSelection-K4/BreakoutNoFrameskip-v4/ball_y_100.pt\n",
            "K: player_x, Loaded path: drive/MyDrive/PAL_HILL_2021/Atari-RL/Models/probes/image_diff-opencv-linear-ImageDiffOutput-PatchSelection-K4/BreakoutNoFrameskip-v4/player_x_100.pt\n",
            "K: blocks_hit_count, Loaded path: drive/MyDrive/PAL_HILL_2021/Atari-RL/Models/probes/image_diff-opencv-linear-ImageDiffOutput-PatchSelection-K4/BreakoutNoFrameskip-v4/blocks_hit_count_100.pt\n",
            "K: score, Loaded path: drive/MyDrive/PAL_HILL_2021/Atari-RL/Models/probes/image_diff-opencv-linear-ImageDiffOutput-PatchSelection-K4/BreakoutNoFrameskip-v4/score_100.pt\n",
            "K: block_bit_map_12, Loaded path: drive/MyDrive/PAL_HILL_2021/Atari-RL/Models/probes/image_diff-opencv-linear-ImageDiffOutput-PatchSelection-K4/BreakoutNoFrameskip-v4/block_bit_map_12_100.pt\n",
            "selected num_epochs: 100\n",
            "Alread trained to 100 epochs.\n",
            "Probes have already been trained, but are trying to be trained again...\n",
            "All probes early stopped!\n",
            "Total Steps: 3169\n",
            "In our paper, we report F1 scores and accuracies averaged across each category. \n",
            "              That is, we take a mean across all state variables in a category to get the average score for that category.\n",
            "              Then we average all the category averages to get the final score that we report per game for each method. \n",
            "              These scores are called 'across_categories_avg_acc' and 'across_categories_avg_f1' respectively\n",
            "              We do this to prevent categories with large number of state variables dominating the mean F1 score.\n",
            "              \n",
            "Epoch: Test\n",
            "\t ball_x_acc:   0.3323\n",
            "\t ball_y_acc:   0.4305\n",
            "\t player_x_acc:   0.7223\n",
            "\t blocks_hit_count_acc:   0.9933\n",
            "\t score_acc:   0.9933\n",
            "\t block_bit_map_12_acc:   0.8960\n",
            "\t small_object_localization_avg_acc:   0.3814\n",
            "\t agent_localization_avg_acc:   0.7223\n",
            "\t score_clock_lives_display_avg_acc:   0.9933\n",
            "\t misc_keys_avg_acc:   0.9447\n",
            "\t overall_avg_acc:   0.7279\n",
            "\t across_categories_avg_acc:   0.7604\n",
            "\t --\n",
            "\t ball_x_f1:   0.3118\n",
            "\t ball_y_f1:   0.4136\n",
            "\t player_x_f1:   0.7008\n",
            "\t blocks_hit_count_f1:   0.9933\n",
            "\t score_f1:   0.9933\n",
            "\t block_bit_map_12_f1:   0.8801\n",
            "\t small_object_localization_avg_f1:   0.3627\n",
            "\t agent_localization_avg_f1:   0.7008\n",
            "\t score_clock_lives_display_avg_f1:   0.9933\n",
            "\t misc_keys_avg_f1:   0.9367\n",
            "\t overall_avg_f1:   0.7155\n",
            "\t across_categories_avg_f1:   0.7484\n",
            "\t --\n"
          ],
          "name": "stdout"
        }
      ]
    },
    {
      "cell_type": "code",
      "metadata": {
        "id": "hQvdauYmBeUN"
      },
      "source": [
        ""
      ],
      "execution_count": 45,
      "outputs": []
    }
  ]
}