{
  "nbformat": 4,
  "nbformat_minor": 0,
  "metadata": {
    "accelerator": "GPU",
    "colab": {
      "name": "CLIP_AtariARI_Breakout_LinearProbe_Full&OpticalFlowBlackMask",
      "provenance": [],
      "collapsed_sections": [
        "yq8xAJ8Yh2r0"
      ],
      "toc_visible": true
    },
    "kernelspec": {
      "display_name": "Python 3",
      "name": "python3"
    },
    "language_info": {
      "name": "python"
    }
  },
  "cells": [
    {
      "cell_type": "markdown",
      "metadata": {
        "id": "h4IkUHvT0BCx"
      },
      "source": [
        "# Mount Drive & Login to Wandb"
      ]
    },
    {
      "cell_type": "code",
      "metadata": {
        "colab": {
          "base_uri": "https://localhost:8080/"
        },
        "id": "xVtxjkbzgVfk",
        "outputId": "b7c7fce2-7206-4f5c-d4b0-1bf27d958a4f"
      },
      "source": [
        "from google.colab import drive\n",
        "from getpass import getpass\n",
        "import urllib\n",
        "import os\n",
        "\n",
        "# Mount drive\n",
        "drive.mount('/content/drive')\n",
        "\n",
        "\n",
        "!pip install wandb -qqq\n",
        "!wandb login"
      ],
      "execution_count": 1,
      "outputs": [
        {
          "output_type": "stream",
          "text": [
            "Mounted at /content/drive\n",
            "\u001b[K     |████████████████████████████████| 1.8MB 29.9MB/s \n",
            "\u001b[K     |████████████████████████████████| 102kB 14.7MB/s \n",
            "\u001b[K     |████████████████████████████████| 133kB 57.7MB/s \n",
            "\u001b[K     |████████████████████████████████| 174kB 50.5MB/s \n",
            "\u001b[K     |████████████████████████████████| 71kB 11.9MB/s \n",
            "\u001b[?25h  Building wheel for subprocess32 (setup.py) ... \u001b[?25l\u001b[?25hdone\n",
            "  Building wheel for pathtools (setup.py) ... \u001b[?25l\u001b[?25hdone\n",
            "\u001b[34m\u001b[1mwandb\u001b[0m: You can find your API key in your browser here: https://wandb.ai/authorize\n",
            "\u001b[34m\u001b[1mwandb\u001b[0m: Paste an API key from your profile and hit enter: \n",
            "\u001b[34m\u001b[1mwandb\u001b[0m: Appending key for api.wandb.ai to your netrc file: /root/.netrc\n"
          ],
          "name": "stdout"
        }
      ]
    },
    {
      "cell_type": "markdown",
      "metadata": {
        "id": "yq8xAJ8Yh2r0"
      },
      "source": [
        "# Install dependencies"
      ]
    },
    {
      "cell_type": "code",
      "metadata": {
        "id": "vmYo_A7o_7w8",
        "colab": {
          "base_uri": "https://localhost:8080/"
        },
        "outputId": "03919755-ff78-4acc-d6b6-8742083be267"
      },
      "source": [
        "!rm -r pearl"
      ],
      "execution_count": 2,
      "outputs": [
        {
          "output_type": "stream",
          "text": [
            "rm: cannot remove 'pearl': No such file or directory\n"
          ],
          "name": "stdout"
        }
      ]
    },
    {
      "cell_type": "code",
      "metadata": {
        "colab": {
          "base_uri": "https://localhost:8080/"
        },
        "id": "CSAk15ES_7w8",
        "outputId": "bec2d285-d140-4330-824b-0b735a0178e6"
      },
      "source": [
        "!git clone https://github.com/PAL-ML/PEARL_v1.git pearl"
      ],
      "execution_count": 3,
      "outputs": [
        {
          "output_type": "stream",
          "text": [
            "Cloning into 'pearl'...\n",
            "remote: Enumerating objects: 151, done.\u001b[K\n",
            "remote: Counting objects: 100% (151/151), done.\u001b[K\n",
            "remote: Compressing objects: 100% (112/112), done.\u001b[K\n",
            "remote: Total 151 (delta 73), reused 91 (delta 34), pack-reused 0\u001b[K\n",
            "Receiving objects: 100% (151/151), 17.85 MiB | 35.03 MiB/s, done.\n",
            "Resolving deltas: 100% (73/73), done.\n"
          ],
          "name": "stdout"
        }
      ]
    },
    {
      "cell_type": "code",
      "metadata": {
        "colab": {
          "base_uri": "https://localhost:8080/"
        },
        "id": "G4JzC9YH_7w9",
        "outputId": "99f64916-4599-4e8c-aef9-aa718b098095"
      },
      "source": [
        "%cd pearl\n",
        "!pip install -r requirements.txt\n",
        "%cd .."
      ],
      "execution_count": 4,
      "outputs": [
        {
          "output_type": "stream",
          "text": [
            "/content/pearl\n",
            "Requirement already satisfied: gym[atari] in /usr/local/lib/python3.7/dist-packages (from -r requirements.txt (line 1)) (0.17.3)\n",
            "Requirement already satisfied: wandb in /usr/local/lib/python3.7/dist-packages (from -r requirements.txt (line 2)) (0.10.31)\n",
            "Requirement already satisfied: opencv-python in /usr/local/lib/python3.7/dist-packages (from -r requirements.txt (line 3)) (4.1.2.30)\n",
            "Requirement already satisfied: scikit-learn in /usr/local/lib/python3.7/dist-packages (from -r requirements.txt (line 4)) (0.22.2.post1)\n",
            "Requirement already satisfied: pyglet<=1.5.0,>=1.4.0 in /usr/local/lib/python3.7/dist-packages (from gym[atari]->-r requirements.txt (line 1)) (1.5.0)\n",
            "Requirement already satisfied: numpy>=1.10.4 in /usr/local/lib/python3.7/dist-packages (from gym[atari]->-r requirements.txt (line 1)) (1.19.5)\n",
            "Requirement already satisfied: cloudpickle<1.7.0,>=1.2.0 in /usr/local/lib/python3.7/dist-packages (from gym[atari]->-r requirements.txt (line 1)) (1.3.0)\n",
            "Requirement already satisfied: scipy in /usr/local/lib/python3.7/dist-packages (from gym[atari]->-r requirements.txt (line 1)) (1.4.1)\n",
            "Requirement already satisfied: Pillow; extra == \"atari\" in /usr/local/lib/python3.7/dist-packages (from gym[atari]->-r requirements.txt (line 1)) (7.1.2)\n",
            "Requirement already satisfied: atari-py~=0.2.0; extra == \"atari\" in /usr/local/lib/python3.7/dist-packages (from gym[atari]->-r requirements.txt (line 1)) (0.2.9)\n",
            "Requirement already satisfied: python-dateutil>=2.6.1 in /usr/local/lib/python3.7/dist-packages (from wandb->-r requirements.txt (line 2)) (2.8.1)\n",
            "Requirement already satisfied: configparser>=3.8.1 in /usr/local/lib/python3.7/dist-packages (from wandb->-r requirements.txt (line 2)) (5.0.2)\n",
            "Requirement already satisfied: psutil>=5.0.0 in /usr/local/lib/python3.7/dist-packages (from wandb->-r requirements.txt (line 2)) (5.4.8)\n",
            "Requirement already satisfied: protobuf>=3.12.0 in /usr/local/lib/python3.7/dist-packages (from wandb->-r requirements.txt (line 2)) (3.12.4)\n",
            "Requirement already satisfied: promise<3,>=2.0 in /usr/local/lib/python3.7/dist-packages (from wandb->-r requirements.txt (line 2)) (2.3)\n",
            "Requirement already satisfied: GitPython>=1.0.0 in /usr/local/lib/python3.7/dist-packages (from wandb->-r requirements.txt (line 2)) (3.1.17)\n",
            "Requirement already satisfied: six>=1.13.0 in /usr/local/lib/python3.7/dist-packages (from wandb->-r requirements.txt (line 2)) (1.15.0)\n",
            "Requirement already satisfied: subprocess32>=3.5.3 in /usr/local/lib/python3.7/dist-packages (from wandb->-r requirements.txt (line 2)) (3.5.4)\n",
            "Requirement already satisfied: Click>=7.0 in /usr/local/lib/python3.7/dist-packages (from wandb->-r requirements.txt (line 2)) (7.1.2)\n",
            "Requirement already satisfied: sentry-sdk>=0.4.0 in /usr/local/lib/python3.7/dist-packages (from wandb->-r requirements.txt (line 2)) (1.1.0)\n",
            "Requirement already satisfied: docker-pycreds>=0.4.0 in /usr/local/lib/python3.7/dist-packages (from wandb->-r requirements.txt (line 2)) (0.4.0)\n",
            "Requirement already satisfied: shortuuid>=0.5.0 in /usr/local/lib/python3.7/dist-packages (from wandb->-r requirements.txt (line 2)) (1.0.1)\n",
            "Requirement already satisfied: pathtools in /usr/local/lib/python3.7/dist-packages (from wandb->-r requirements.txt (line 2)) (0.1.2)\n",
            "Requirement already satisfied: PyYAML in /usr/local/lib/python3.7/dist-packages (from wandb->-r requirements.txt (line 2)) (3.13)\n",
            "Requirement already satisfied: requests<3,>=2.0.0 in /usr/local/lib/python3.7/dist-packages (from wandb->-r requirements.txt (line 2)) (2.23.0)\n",
            "Requirement already satisfied: joblib>=0.11 in /usr/local/lib/python3.7/dist-packages (from scikit-learn->-r requirements.txt (line 4)) (1.0.1)\n",
            "Requirement already satisfied: future in /usr/local/lib/python3.7/dist-packages (from pyglet<=1.5.0,>=1.4.0->gym[atari]->-r requirements.txt (line 1)) (0.16.0)\n",
            "Requirement already satisfied: setuptools in /usr/local/lib/python3.7/dist-packages (from protobuf>=3.12.0->wandb->-r requirements.txt (line 2)) (57.0.0)\n",
            "Requirement already satisfied: typing-extensions>=3.7.4.0; python_version < \"3.8\" in /usr/local/lib/python3.7/dist-packages (from GitPython>=1.0.0->wandb->-r requirements.txt (line 2)) (3.7.4.3)\n",
            "Requirement already satisfied: gitdb<5,>=4.0.1 in /usr/local/lib/python3.7/dist-packages (from GitPython>=1.0.0->wandb->-r requirements.txt (line 2)) (4.0.7)\n",
            "Requirement already satisfied: certifi in /usr/local/lib/python3.7/dist-packages (from sentry-sdk>=0.4.0->wandb->-r requirements.txt (line 2)) (2020.12.5)\n",
            "Requirement already satisfied: urllib3>=1.10.0 in /usr/local/lib/python3.7/dist-packages (from sentry-sdk>=0.4.0->wandb->-r requirements.txt (line 2)) (1.24.3)\n",
            "Requirement already satisfied: chardet<4,>=3.0.2 in /usr/local/lib/python3.7/dist-packages (from requests<3,>=2.0.0->wandb->-r requirements.txt (line 2)) (3.0.4)\n",
            "Requirement already satisfied: idna<3,>=2.5 in /usr/local/lib/python3.7/dist-packages (from requests<3,>=2.0.0->wandb->-r requirements.txt (line 2)) (2.10)\n",
            "Requirement already satisfied: smmap<5,>=3.0.1 in /usr/local/lib/python3.7/dist-packages (from gitdb<5,>=4.0.1->GitPython>=1.0.0->wandb->-r requirements.txt (line 2)) (4.0.0)\n",
            "/content\n"
          ],
          "name": "stdout"
        }
      ]
    },
    {
      "cell_type": "code",
      "metadata": {
        "colab": {
          "base_uri": "https://localhost:8080/"
        },
        "id": "AEg_GmBFaMtj",
        "outputId": "4ef5253d-72a2-4576-fa84-e1e95e7fae17"
      },
      "source": [
        "!pip install git+git://github.com/ankeshanand/pytorch-a2c-ppo-acktr-gail"
      ],
      "execution_count": 5,
      "outputs": [
        {
          "output_type": "stream",
          "text": [
            "Collecting git+git://github.com/ankeshanand/pytorch-a2c-ppo-acktr-gail\n",
            "  Cloning git://github.com/ankeshanand/pytorch-a2c-ppo-acktr-gail to /tmp/pip-req-build-4ancr9m9\n",
            "  Running command git clone -q git://github.com/ankeshanand/pytorch-a2c-ppo-acktr-gail /tmp/pip-req-build-4ancr9m9\n",
            "Requirement already satisfied: gym in /usr/local/lib/python3.7/dist-packages (from a2c-ppo-acktr==0.0.1) (0.17.3)\n",
            "Requirement already satisfied: matplotlib in /usr/local/lib/python3.7/dist-packages (from a2c-ppo-acktr==0.0.1) (3.2.2)\n",
            "Requirement already satisfied: scipy in /usr/local/lib/python3.7/dist-packages (from gym->a2c-ppo-acktr==0.0.1) (1.4.1)\n",
            "Requirement already satisfied: numpy>=1.10.4 in /usr/local/lib/python3.7/dist-packages (from gym->a2c-ppo-acktr==0.0.1) (1.19.5)\n",
            "Requirement already satisfied: cloudpickle<1.7.0,>=1.2.0 in /usr/local/lib/python3.7/dist-packages (from gym->a2c-ppo-acktr==0.0.1) (1.3.0)\n",
            "Requirement already satisfied: pyglet<=1.5.0,>=1.4.0 in /usr/local/lib/python3.7/dist-packages (from gym->a2c-ppo-acktr==0.0.1) (1.5.0)\n",
            "Requirement already satisfied: kiwisolver>=1.0.1 in /usr/local/lib/python3.7/dist-packages (from matplotlib->a2c-ppo-acktr==0.0.1) (1.3.1)\n",
            "Requirement already satisfied: pyparsing!=2.0.4,!=2.1.2,!=2.1.6,>=2.0.1 in /usr/local/lib/python3.7/dist-packages (from matplotlib->a2c-ppo-acktr==0.0.1) (2.4.7)\n",
            "Requirement already satisfied: cycler>=0.10 in /usr/local/lib/python3.7/dist-packages (from matplotlib->a2c-ppo-acktr==0.0.1) (0.10.0)\n",
            "Requirement already satisfied: python-dateutil>=2.1 in /usr/local/lib/python3.7/dist-packages (from matplotlib->a2c-ppo-acktr==0.0.1) (2.8.1)\n",
            "Requirement already satisfied: future in /usr/local/lib/python3.7/dist-packages (from pyglet<=1.5.0,>=1.4.0->gym->a2c-ppo-acktr==0.0.1) (0.16.0)\n",
            "Requirement already satisfied: six in /usr/local/lib/python3.7/dist-packages (from cycler>=0.10->matplotlib->a2c-ppo-acktr==0.0.1) (1.15.0)\n",
            "Building wheels for collected packages: a2c-ppo-acktr\n",
            "  Building wheel for a2c-ppo-acktr (setup.py) ... \u001b[?25l\u001b[?25hdone\n",
            "  Created wheel for a2c-ppo-acktr: filename=a2c_ppo_acktr-0.0.1-cp37-none-any.whl size=18832 sha256=408c7dc9ca925bc528b8e43ac1c8e1c422c9a97f3c84c918f2798f2471f093d3\n",
            "  Stored in directory: /tmp/pip-ephem-wheel-cache-pcnkpyt7/wheels/91/52/02/ec5c530fd76d56a66934ee91abbdae5240b766be1dc176deb7\n",
            "Successfully built a2c-ppo-acktr\n",
            "Installing collected packages: a2c-ppo-acktr\n",
            "Successfully installed a2c-ppo-acktr-0.0.1\n"
          ],
          "name": "stdout"
        }
      ]
    },
    {
      "cell_type": "code",
      "metadata": {
        "colab": {
          "base_uri": "https://localhost:8080/"
        },
        "id": "JpU4yjx3aVhQ",
        "outputId": "5c9aff6a-f215-4ec8-edfe-2d6103438eec"
      },
      "source": [
        "!pip install git+git://github.com/mila-iqia/atari-representation-learning.git"
      ],
      "execution_count": 6,
      "outputs": [
        {
          "output_type": "stream",
          "text": [
            "Collecting git+git://github.com/mila-iqia/atari-representation-learning.git\n",
            "  Cloning git://github.com/mila-iqia/atari-representation-learning.git to /tmp/pip-req-build-yzdzzl2w\n",
            "  Running command git clone -q git://github.com/mila-iqia/atari-representation-learning.git /tmp/pip-req-build-yzdzzl2w\n",
            "Requirement already satisfied: gym in /usr/local/lib/python3.7/dist-packages (from atariari==0.0.1) (0.17.3)\n",
            "Requirement already satisfied: opencv-python in /usr/local/lib/python3.7/dist-packages (from atariari==0.0.1) (4.1.2.30)\n",
            "Requirement already satisfied: scipy in /usr/local/lib/python3.7/dist-packages (from gym->atariari==0.0.1) (1.4.1)\n",
            "Requirement already satisfied: numpy>=1.10.4 in /usr/local/lib/python3.7/dist-packages (from gym->atariari==0.0.1) (1.19.5)\n",
            "Requirement already satisfied: cloudpickle<1.7.0,>=1.2.0 in /usr/local/lib/python3.7/dist-packages (from gym->atariari==0.0.1) (1.3.0)\n",
            "Requirement already satisfied: pyglet<=1.5.0,>=1.4.0 in /usr/local/lib/python3.7/dist-packages (from gym->atariari==0.0.1) (1.5.0)\n",
            "Requirement already satisfied: future in /usr/local/lib/python3.7/dist-packages (from pyglet<=1.5.0,>=1.4.0->gym->atariari==0.0.1) (0.16.0)\n",
            "Building wheels for collected packages: atariari\n",
            "  Building wheel for atariari (setup.py) ... \u001b[?25l\u001b[?25hdone\n",
            "  Created wheel for atariari: filename=atariari-0.0.1-cp37-none-any.whl size=46727 sha256=db96b02886c6237d88087055bb9554601c0d747174a002ab4dbef4c22016f7c2\n",
            "  Stored in directory: /tmp/pip-ephem-wheel-cache-7bh3uoe0/wheels/3d/69/51/5e436e5ae566c5b4dec5c53e65396d516459877a42a11d7aa4\n",
            "Successfully built atariari\n",
            "Installing collected packages: atariari\n",
            "Successfully installed atariari-0.0.1\n"
          ],
          "name": "stdout"
        }
      ]
    },
    {
      "cell_type": "code",
      "metadata": {
        "colab": {
          "base_uri": "https://localhost:8080/"
        },
        "id": "f1Gsu6oxdIQm",
        "outputId": "fac4300c-2ada-404b-eb73-477a71b225c1"
      },
      "source": [
        "!pip install torch==1.7.1{torch_version_suffix} torchvision==0.8.2{torch_version_suffix} -f https://download.pytorch.org/whl/torch_stable.html ftfy regex"
      ],
      "execution_count": 7,
      "outputs": [
        {
          "output_type": "stream",
          "text": [
            "Looking in links: https://download.pytorch.org/whl/torch_stable.html\n",
            "\u001b[31mERROR: Could not find a version that satisfies the requirement torch==1.7.1{torch_version_suffix} (from versions: 0.1.2, 0.1.2.post1, 0.1.2.post2, 0.4.1, 0.4.1.post2, 1.0.0, 1.0.1, 1.0.1.post2, 1.1.0, 1.2.0, 1.2.0+cpu, 1.2.0+cu92, 1.3.0, 1.3.0+cpu, 1.3.0+cu100, 1.3.0+cu92, 1.3.1, 1.3.1+cpu, 1.3.1+cu100, 1.3.1+cu92, 1.4.0, 1.4.0+cpu, 1.4.0+cu100, 1.4.0+cu92, 1.5.0, 1.5.0+cpu, 1.5.0+cu101, 1.5.0+cu92, 1.5.1, 1.5.1+cpu, 1.5.1+cu101, 1.5.1+cu92, 1.6.0, 1.6.0+cpu, 1.6.0+cu101, 1.6.0+cu92, 1.7.0, 1.7.0+cpu, 1.7.0+cu101, 1.7.0+cu110, 1.7.0+cu92, 1.7.1, 1.7.1+cpu, 1.7.1+cu101, 1.7.1+cu110, 1.7.1+cu92, 1.7.1+rocm3.7, 1.7.1+rocm3.8, 1.8.0, 1.8.0+cpu, 1.8.0+cu101, 1.8.0+cu111, 1.8.0+rocm3.10, 1.8.0+rocm4.0.1, 1.8.1, 1.8.1+cpu, 1.8.1+cu101, 1.8.1+cu102, 1.8.1+cu111, 1.8.1+rocm3.10, 1.8.1+rocm4.0.1)\u001b[0m\n",
            "\u001b[31mERROR: No matching distribution found for torch==1.7.1{torch_version_suffix}\u001b[0m\n"
          ],
          "name": "stdout"
        }
      ]
    },
    {
      "cell_type": "code",
      "metadata": {
        "colab": {
          "base_uri": "https://localhost:8080/"
        },
        "id": "SNrCTmycdfNG",
        "outputId": "470a7723-fa87-473b-e750-2ebf08c76cf3"
      },
      "source": [
        "!pip install ftfy regex tqdm"
      ],
      "execution_count": 8,
      "outputs": [
        {
          "output_type": "stream",
          "text": [
            "Collecting ftfy\n",
            "\u001b[?25l  Downloading https://files.pythonhosted.org/packages/af/da/d215a091986e5f01b80f5145cff6f22e2dc57c6b048aab2e882a07018473/ftfy-6.0.3.tar.gz (64kB)\n",
            "\r\u001b[K     |█████                           | 10kB 23.0MB/s eta 0:00:01\r\u001b[K     |██████████▏                     | 20kB 30.4MB/s eta 0:00:01\r\u001b[K     |███████████████▎                | 30kB 35.0MB/s eta 0:00:01\r\u001b[K     |████████████████████▍           | 40kB 30.6MB/s eta 0:00:01\r\u001b[K     |█████████████████████████▌      | 51kB 31.2MB/s eta 0:00:01\r\u001b[K     |██████████████████████████████▋ | 61kB 31.7MB/s eta 0:00:01\r\u001b[K     |████████████████████████████████| 71kB 9.9MB/s \n",
            "\u001b[?25hRequirement already satisfied: regex in /usr/local/lib/python3.7/dist-packages (2019.12.20)\n",
            "Requirement already satisfied: tqdm in /usr/local/lib/python3.7/dist-packages (4.41.1)\n",
            "Requirement already satisfied: wcwidth in /usr/local/lib/python3.7/dist-packages (from ftfy) (0.2.5)\n",
            "Building wheels for collected packages: ftfy\n",
            "  Building wheel for ftfy (setup.py) ... \u001b[?25l\u001b[?25hdone\n",
            "  Created wheel for ftfy: filename=ftfy-6.0.3-cp37-none-any.whl size=41935 sha256=89b102a239291ea377de9c1b38703496df37e7368188721074e04d09666db243\n",
            "  Stored in directory: /root/.cache/pip/wheels/99/2c/e6/109c8a28fef7a443f67ba58df21fe1d0067ac3322e75e6b0b7\n",
            "Successfully built ftfy\n",
            "Installing collected packages: ftfy\n",
            "Successfully installed ftfy-6.0.3\n"
          ],
          "name": "stdout"
        }
      ]
    },
    {
      "cell_type": "code",
      "metadata": {
        "colab": {
          "base_uri": "https://localhost:8080/"
        },
        "id": "X1JziHLTdlkO",
        "outputId": "47e1fbf2-d711-4096-97c4-1352ac8ddfdb"
      },
      "source": [
        "pip install git+https://github.com/openai/CLIP.git"
      ],
      "execution_count": 9,
      "outputs": [
        {
          "output_type": "stream",
          "text": [
            "Collecting git+https://github.com/openai/CLIP.git\n",
            "  Cloning https://github.com/openai/CLIP.git to /tmp/pip-req-build-t2vqx57n\n",
            "  Running command git clone -q https://github.com/openai/CLIP.git /tmp/pip-req-build-t2vqx57n\n",
            "Requirement already satisfied: ftfy in /usr/local/lib/python3.7/dist-packages (from clip==1.0) (6.0.3)\n",
            "Requirement already satisfied: regex in /usr/local/lib/python3.7/dist-packages (from clip==1.0) (2019.12.20)\n",
            "Requirement already satisfied: tqdm in /usr/local/lib/python3.7/dist-packages (from clip==1.0) (4.41.1)\n",
            "Collecting torch~=1.7.1\n",
            "\u001b[?25l  Downloading https://files.pythonhosted.org/packages/90/5d/095ddddc91c8a769a68c791c019c5793f9c4456a688ddd235d6670924ecb/torch-1.7.1-cp37-cp37m-manylinux1_x86_64.whl (776.8MB)\n",
            "\u001b[K     |████████████████████████████████| 776.8MB 22kB/s \n",
            "\u001b[?25hCollecting torchvision~=0.8.2\n",
            "\u001b[?25l  Downloading https://files.pythonhosted.org/packages/94/df/969e69a94cff1c8911acb0688117f95e1915becc1e01c73e7960a2c76ec8/torchvision-0.8.2-cp37-cp37m-manylinux1_x86_64.whl (12.8MB)\n",
            "\u001b[K     |████████████████████████████████| 12.8MB 257kB/s \n",
            "\u001b[?25hRequirement already satisfied: wcwidth in /usr/local/lib/python3.7/dist-packages (from ftfy->clip==1.0) (0.2.5)\n",
            "Requirement already satisfied: typing-extensions in /usr/local/lib/python3.7/dist-packages (from torch~=1.7.1->clip==1.0) (3.7.4.3)\n",
            "Requirement already satisfied: numpy in /usr/local/lib/python3.7/dist-packages (from torch~=1.7.1->clip==1.0) (1.19.5)\n",
            "Requirement already satisfied: pillow>=4.1.1 in /usr/local/lib/python3.7/dist-packages (from torchvision~=0.8.2->clip==1.0) (7.1.2)\n",
            "Building wheels for collected packages: clip\n",
            "  Building wheel for clip (setup.py) ... \u001b[?25l\u001b[?25hdone\n",
            "  Created wheel for clip: filename=clip-1.0-cp37-none-any.whl size=1368722 sha256=9311f48ff1a168477b700ea6edc32150d2f70654a1a9a1ec59a6b474314d2b4e\n",
            "  Stored in directory: /tmp/pip-ephem-wheel-cache-rpvwjnz6/wheels/79/51/d7/69f91d37121befe21d9c52332e04f592e17d1cabc7319b3e09\n",
            "Successfully built clip\n",
            "\u001b[31mERROR: torchtext 0.9.1 has requirement torch==1.8.1, but you'll have torch 1.7.1 which is incompatible.\u001b[0m\n",
            "Installing collected packages: torch, torchvision, clip\n",
            "  Found existing installation: torch 1.8.1+cu101\n",
            "    Uninstalling torch-1.8.1+cu101:\n",
            "      Successfully uninstalled torch-1.8.1+cu101\n",
            "  Found existing installation: torchvision 0.9.1+cu101\n",
            "    Uninstalling torchvision-0.9.1+cu101:\n",
            "      Successfully uninstalled torchvision-0.9.1+cu101\n",
            "Successfully installed clip-1.0 torch-1.7.1 torchvision-0.8.2\n"
          ],
          "name": "stdout"
        }
      ]
    },
    {
      "cell_type": "code",
      "metadata": {
        "colab": {
          "base_uri": "https://localhost:8080/"
        },
        "id": "iCq07cZJeVSG",
        "outputId": "2308cfa5-0729-4eb5-d634-2ef7bbdb769f"
      },
      "source": [
        "!pip install git+git://github.com/openai/baselines"
      ],
      "execution_count": 10,
      "outputs": [
        {
          "output_type": "stream",
          "text": [
            "Collecting git+git://github.com/openai/baselines\n",
            "  Cloning git://github.com/openai/baselines to /tmp/pip-req-build-5ijpciwh\n",
            "  Running command git clone -q git://github.com/openai/baselines /tmp/pip-req-build-5ijpciwh\n",
            "Collecting gym<0.16.0,>=0.15.4\n",
            "\u001b[?25l  Downloading https://files.pythonhosted.org/packages/e0/01/8771e8f914a627022296dab694092a11a7d417b6c8364f0a44a8debca734/gym-0.15.7.tar.gz (1.6MB)\n",
            "\u001b[K     |████████████████████████████████| 1.6MB 36.8MB/s \n",
            "\u001b[?25hRequirement already satisfied: scipy in /usr/local/lib/python3.7/dist-packages (from baselines==0.1.6) (1.4.1)\n",
            "Requirement already satisfied: tqdm in /usr/local/lib/python3.7/dist-packages (from baselines==0.1.6) (4.41.1)\n",
            "Requirement already satisfied: joblib in /usr/local/lib/python3.7/dist-packages (from baselines==0.1.6) (1.0.1)\n",
            "Requirement already satisfied: cloudpickle in /usr/local/lib/python3.7/dist-packages (from baselines==0.1.6) (1.3.0)\n",
            "Requirement already satisfied: click in /usr/local/lib/python3.7/dist-packages (from baselines==0.1.6) (7.1.2)\n",
            "Requirement already satisfied: opencv-python in /usr/local/lib/python3.7/dist-packages (from baselines==0.1.6) (4.1.2.30)\n",
            "Requirement already satisfied: numpy>=1.10.4 in /usr/local/lib/python3.7/dist-packages (from gym<0.16.0,>=0.15.4->baselines==0.1.6) (1.19.5)\n",
            "Requirement already satisfied: six in /usr/local/lib/python3.7/dist-packages (from gym<0.16.0,>=0.15.4->baselines==0.1.6) (1.15.0)\n",
            "Requirement already satisfied: pyglet<=1.5.0,>=1.4.0 in /usr/local/lib/python3.7/dist-packages (from gym<0.16.0,>=0.15.4->baselines==0.1.6) (1.5.0)\n",
            "Requirement already satisfied: future in /usr/local/lib/python3.7/dist-packages (from pyglet<=1.5.0,>=1.4.0->gym<0.16.0,>=0.15.4->baselines==0.1.6) (0.16.0)\n",
            "Building wheels for collected packages: baselines, gym\n",
            "  Building wheel for baselines (setup.py) ... \u001b[?25l\u001b[?25hdone\n",
            "  Created wheel for baselines: filename=baselines-0.1.6-cp37-none-any.whl size=220681 sha256=80ff02bb62ce6a58cffa2907a97afb4a9cd4c19c793a834f1e69f11a8d00339d\n",
            "  Stored in directory: /tmp/pip-ephem-wheel-cache-wawnqo7x/wheels/42/1c/91/28314e0cd1d2cc57cf8dd18b20c4c9a0f39ae518adc13caf24\n",
            "  Building wheel for gym (setup.py) ... \u001b[?25l\u001b[?25hdone\n",
            "  Created wheel for gym: filename=gym-0.15.7-cp37-none-any.whl size=1648842 sha256=4acec2b91acc6aa3ac4712be3ccf5f417a1910bfbb27c9cc0beec750888d0d97\n",
            "  Stored in directory: /root/.cache/pip/wheels/35/60/6a/f9c27ae133abaf5a5687ed2fa8ed19627d7fac5d843a27572b\n",
            "Successfully built baselines gym\n",
            "\u001b[31mERROR: gym 0.15.7 has requirement cloudpickle~=1.2.0, but you'll have cloudpickle 1.3.0 which is incompatible.\u001b[0m\n",
            "Installing collected packages: gym, baselines\n",
            "  Found existing installation: gym 0.17.3\n",
            "    Uninstalling gym-0.17.3:\n",
            "      Successfully uninstalled gym-0.17.3\n",
            "Successfully installed baselines-0.1.6 gym-0.15.7\n"
          ],
          "name": "stdout"
        }
      ]
    },
    {
      "cell_type": "code",
      "metadata": {
        "colab": {
          "base_uri": "https://localhost:8080/"
        },
        "id": "gOoUFuZ-GH1L",
        "outputId": "aef022c2-ab9d-4a1e-fe9d-1cb1f039e721"
      },
      "source": [
        "!git clone https://github.com/princeton-vl/RAFT.git"
      ],
      "execution_count": 11,
      "outputs": [
        {
          "output_type": "stream",
          "text": [
            "Cloning into 'RAFT'...\n",
            "remote: Enumerating objects: 133, done.\u001b[K\n",
            "remote: Total 133 (delta 0), reused 0 (delta 0), pack-reused 133\u001b[K\n",
            "Receiving objects: 100% (133/133), 10.01 MiB | 49.78 MiB/s, done.\n",
            "Resolving deltas: 100% (47/47), done.\n"
          ],
          "name": "stdout"
        }
      ]
    },
    {
      "cell_type": "markdown",
      "metadata": {
        "id": "hGEGKk7Gisky"
      },
      "source": [
        "# Imports"
      ]
    },
    {
      "cell_type": "code",
      "metadata": {
        "id": "VZTQ396QdqKC"
      },
      "source": [
        "# ML libraries\n",
        "import torch.nn as nn\n",
        "import torch\n",
        "import pearl.src.benchmark.colab_data_preprocess as data_utils\n",
        "from pearl.src.benchmark.probe_training_wrapper import run_probe_training\n",
        "from pearl.src.benchmark.encoder_training_wrapper import run_encoder_training\n",
        "from pearl.src.methods.encoders import LinearRepEncoder, ClipEncoder, LinearCPCEncoder\n",
        "from pearl.src.benchmark.utils import appendabledict, load_encoder_from_checkpoint\n",
        "\n",
        "# Models\n",
        "import clip\n",
        "\n",
        "# Data processing\n",
        "from PIL import Image\n",
        "from torchvision.transforms import Compose, Resize, Normalize\n",
        "\n",
        "# Misc\n",
        "import numpy as np\n",
        "import wandb\n",
        "import os\n",
        "\n",
        "# Plotting\n",
        "import seaborn as sns\n",
        "import matplotlib.pyplot as plt"
      ],
      "execution_count": 12,
      "outputs": []
    },
    {
      "cell_type": "markdown",
      "metadata": {
        "id": "wZTKLXRii4xT"
      },
      "source": [
        "# Helper function(s)"
      ]
    },
    {
      "cell_type": "code",
      "metadata": {
        "id": "gH2tZT3ai7X5"
      },
      "source": [
        "def get_trained_encoder(rep_encoder, tr_episodes, val_episodes, config, wandb, method=None, train_encoder=False):\n",
        "  \n",
        "  if train_encoder:\n",
        "    trained_encoder = run_encoder_training(rep_encoder, tr_episodes, val_episodes, config, wandb, method=method)\n",
        "  else:\n",
        "    trained_encoder = load_encoder_from_checkpoint(encoder_models_dir, config['model_name'], LinearCPCEncoder, input_size=rep_encoder.input_size, output_size=rep_encoder.feature_size, to_train=False)\n",
        "\n",
        "  return trained_encoder"
      ],
      "execution_count": 13,
      "outputs": []
    },
    {
      "cell_type": "code",
      "metadata": {
        "id": "DD2UK01iqvNv"
      },
      "source": [
        "def get_optical_flow_data(optical_flow_output_type, data_dir):\n",
        "    if optical_flow_output_type == \"output\":\n",
        "        fn_prefix = \"clip_optical_flow_output_embeddings_\"\n",
        "    if optical_flow_output_type == \"black_mask\":\n",
        "        fn_prefix = \"clip_optical_flow_black_mask_embeddings_\"\n",
        "\n",
        "    train_embeddings_fn = fn_prefix + \"train\"\n",
        "    val_embeddings_fn = fn_prefix + \"val\"\n",
        "    test_embeddings_fn = fn_prefix + \"test\"\n",
        "\n",
        "    optical_flow_tr_embeddings = torch.load(os.path.join(data_dir, train_embeddings_fn))\n",
        "    optical_flow_val_embeddings = torch.load(os.path.join(data_dir, val_embeddings_fn))\n",
        "    optical_flow_test_embeddings = torch.load(os.path.join(data_dir, test_embeddings_fn))\n",
        "\n",
        "    return optical_flow_tr_embeddings, optical_flow_val_embeddings, optical_flow_test_embeddings\n"
      ],
      "execution_count": 14,
      "outputs": []
    },
    {
      "cell_type": "code",
      "metadata": {
        "id": "vG7rwfON4OHr"
      },
      "source": [
        "def combine_embeddings(original_image_embeddings, optical_flow_embeddings):\n",
        "    combined_embeddings = []\n",
        "    for ep_idx in range(len(optical_flow_embeddings)):\n",
        "        combined_episode = []\n",
        "        for frame_idx in range(len(optical_flow_embeddings[ep_idx])):\n",
        "            of_emb = optical_flow_embeddings[ep_idx][frame_idx]\n",
        "            ori_emb = original_image_embeddings[ep_idx][frame_idx]\n",
        "\n",
        "            combined_emb = torch.cat([ori_emb, of_emb])\n",
        "            combined_episode.append(combined_emb)\n",
        "        combined_embeddings.append(combined_episode)\n",
        "\n",
        "    return combined_embeddings"
      ],
      "execution_count": 15,
      "outputs": []
    },
    {
      "cell_type": "markdown",
      "metadata": {
        "id": "jk6yj3Bh0b2d"
      },
      "source": [
        "# Initialization & constants"
      ]
    },
    {
      "cell_type": "markdown",
      "metadata": {
        "id": "IfChufKSBSDT"
      },
      "source": [
        "General"
      ]
    },
    {
      "cell_type": "code",
      "metadata": {
        "id": "rpby5Opx0gQ9"
      },
      "source": [
        "env_name = \"BreakoutNoFrameskip-v4\"\n",
        "collect_mode = \"random_agent\" # random_agent or ppo_agent\n",
        "steps = 50000\n",
        "training_input = \"embeddings\" # embeddings or images"
      ],
      "execution_count": 16,
      "outputs": []
    },
    {
      "cell_type": "markdown",
      "metadata": {
        "id": "CwqPdjGCYU87"
      },
      "source": [
        "Encoder params"
      ]
    },
    {
      "cell_type": "code",
      "metadata": {
        "id": "sBEtBzgxYWxl"
      },
      "source": [
        "'''\n",
        "input_size = 512\n",
        "feature_size = 512\n",
        "\n",
        "e_lr = 3e-4\n",
        "e_batch_size = 64\n",
        "e_num_epochs = 200\n",
        "e_patience = 15\n",
        "\n",
        "gru_layers = 2\n",
        "gru_size = 256\n",
        "seq_len = 100\n",
        "steps_start = 0\n",
        "steps_end = 99\n",
        "steps_step = 4\n",
        "'''\n",
        "\n",
        "encoder_training_method = \"optical_flow\"\n",
        "encoder_type = \"raft\"\n",
        "model_name = encoder_training_method + '-' + encoder_type\n",
        "train_encoder = False\n",
        "use_encoder = False\n",
        "\n",
        "input_channels = 3\n",
        "feature_size = 1024"
      ],
      "execution_count": 17,
      "outputs": []
    },
    {
      "cell_type": "markdown",
      "metadata": {
        "id": "aQTwiUsKBTbZ"
      },
      "source": [
        "Probe Params"
      ]
    },
    {
      "cell_type": "code",
      "metadata": {
        "id": "3FOz9sYkBWUQ"
      },
      "source": [
        "p_lr = 3e-4\n",
        "p_batch_size = 64\n",
        "p_num_epochs = 100\n",
        "p_patience = 15\n",
        "\n",
        "probe_type = \"linear\"\n",
        "probe_name_suffix = \"_OpticalFlowBlackMaskCombined\"\n",
        "probe_name = encoder_training_method + \"-\" + encoder_type + \"-\" + probe_type + probe_name_suffix"
      ],
      "execution_count": 18,
      "outputs": []
    },
    {
      "cell_type": "markdown",
      "metadata": {
        "id": "vCALvK8WBFJI"
      },
      "source": [
        "Paths"
      ]
    },
    {
      "cell_type": "code",
      "metadata": {
        "id": "ruZNWP8LBGxf"
      },
      "source": [
        "data_path_suffix = \"-latest-04-05-2021\"\n",
        "\n",
        "probe_models_dir = os.path.join(\"drive/MyDrive/PAL_HILL_2021/Atari-RL/Models/probes\", probe_name, env_name)\n",
        "encoder_models_dir = os.path.join(\"drive/MyDrive/PAL_HILL_2021/Atari-RL/Models/encoders\", encoder_type, env_name)\n",
        "data_dir = os.path.join(\"/content/drive/MyDrive/PAL_HILL_2021/Atari-RL/Images_Labels_Clip_embeddings\", env_name + data_path_suffix)"
      ],
      "execution_count": 19,
      "outputs": []
    },
    {
      "cell_type": "code",
      "metadata": {
        "id": "36Qr3NxlCuXQ"
      },
      "source": [
        "if not os.path.exists(probe_models_dir):\n",
        "  os.makedirs(probe_models_dir)\n",
        "\n",
        "if not os.path.exists(encoder_models_dir):\n",
        "  os.makedirs(encoder_models_dir)"
      ],
      "execution_count": 20,
      "outputs": []
    },
    {
      "cell_type": "markdown",
      "metadata": {
        "id": "jPK00s_FBIeM"
      },
      "source": [
        "Wandb"
      ]
    },
    {
      "cell_type": "code",
      "metadata": {
        "colab": {
          "base_uri": "https://localhost:8080/",
          "height": 136
        },
        "id": "xUiSPTKw_27r",
        "outputId": "89824ebf-2863-4101-fa6d-168df7960144"
      },
      "source": [
        "wandb.init(project='atari-clip')\n",
        "\n",
        "config = wandb.config\n",
        "config.game  = \"{}-optical-flow-black-combined-raft-linear-probe\".format(env_name.replace(\"NoFrameskip-v4\", \"\"))\n",
        "wandb.run.name = \"{}_optical_flow_black_combined_raft_linear_may_11_Debugging\".format(env_name.replace(\"NoFrameskip-v4\", \"\"))"
      ],
      "execution_count": 21,
      "outputs": [
        {
          "output_type": "stream",
          "text": [
            "\u001b[34m\u001b[1mwandb\u001b[0m: Currently logged in as: \u001b[33mpal-mit\u001b[0m (use `wandb login --relogin` to force relogin)\n"
          ],
          "name": "stderr"
        },
        {
          "output_type": "display_data",
          "data": {
            "text/html": [
              "\n",
              "                Tracking run with wandb version 0.10.31<br/>\n",
              "                Syncing run <strong style=\"color:#cdcd00\">gallant-cosmos-1809</strong> to <a href=\"https://wandb.ai\" target=\"_blank\">Weights & Biases</a> <a href=\"https://docs.wandb.com/integrations/jupyter.html\" target=\"_blank\">(Documentation)</a>.<br/>\n",
              "                Project page: <a href=\"https://wandb.ai/pal-mit/atari-clip\" target=\"_blank\">https://wandb.ai/pal-mit/atari-clip</a><br/>\n",
              "                Run page: <a href=\"https://wandb.ai/pal-mit/atari-clip/runs/v6hz1g5d\" target=\"_blank\">https://wandb.ai/pal-mit/atari-clip/runs/v6hz1g5d</a><br/>\n",
              "                Run data is saved locally in <code>/content/wandb/run-20210609_173050-v6hz1g5d</code><br/><br/>\n",
              "            "
            ],
            "text/plain": [
              "<IPython.core.display.HTML object>"
            ]
          },
          "metadata": {
            "tags": []
          }
        }
      ]
    },
    {
      "cell_type": "markdown",
      "metadata": {
        "id": "qvAsY9ab7B7W"
      },
      "source": [
        "Optical flow output type"
      ]
    },
    {
      "cell_type": "code",
      "metadata": {
        "id": "Jrw-An4q7EFZ"
      },
      "source": [
        "optical_flow_output_type = \"black_mask\""
      ],
      "execution_count": 22,
      "outputs": []
    },
    {
      "cell_type": "markdown",
      "metadata": {
        "id": "7RhJsO6aRO8M"
      },
      "source": [
        "# Get episode data"
      ]
    },
    {
      "cell_type": "code",
      "metadata": {
        "colab": {
          "base_uri": "https://localhost:8080/"
        },
        "id": "T5xyMe-PRO8N",
        "outputId": "9f27bc06-ea23-4863-8bbc-2aa145d15ed7"
      },
      "source": [
        "tr_episodes, val_episodes,\\\n",
        "tr_labels, val_labels,\\\n",
        "test_episodes, test_labels = data_utils.get_data(training_input, data_dir, env_name=env_name, steps=steps, collect_mode=collect_mode, color=True)"
      ],
      "execution_count": 23,
      "outputs": [
        {
          "output_type": "stream",
          "text": [
            "Data loaded from /content/drive/MyDrive/PAL_HILL_2021/Atari-RL/Images_Labels_Clip_embeddings/BreakoutNoFrameskip-v4-latest-04-05-2021/train_labels.npz\n",
            "Data loaded from /content/drive/MyDrive/PAL_HILL_2021/Atari-RL/Images_Labels_Clip_embeddings/BreakoutNoFrameskip-v4-latest-04-05-2021/val_labels.npz\n",
            "Data loaded from /content/drive/MyDrive/PAL_HILL_2021/Atari-RL/Images_Labels_Clip_embeddings/BreakoutNoFrameskip-v4-latest-04-05-2021/test_labels.npz\n"
          ],
          "name": "stdout"
        }
      ]
    },
    {
      "cell_type": "code",
      "metadata": {
        "id": "SjVUlRTdw0R2"
      },
      "source": [
        "(optical_flow_tr_embeddings, \n",
        " optical_flow_val_embeddings, \n",
        " optical_flow_test_embeddings) = get_optical_flow_data(optical_flow_output_type, data_dir)"
      ],
      "execution_count": 24,
      "outputs": []
    },
    {
      "cell_type": "code",
      "metadata": {
        "id": "6baCP8ir5LqS"
      },
      "source": [
        "combined_tr_embeddings = combine_embeddings(tr_episodes, optical_flow_tr_embeddings)\n",
        "combined_val_embeddings = combine_embeddings(val_episodes, optical_flow_val_embeddings)\n",
        "combined_test_embeddings = combine_embeddings(test_episodes, optical_flow_test_embeddings)"
      ],
      "execution_count": 25,
      "outputs": []
    },
    {
      "cell_type": "code",
      "metadata": {
        "colab": {
          "base_uri": "https://localhost:8080/"
        },
        "id": "NovUgprQ5bHa",
        "outputId": "4f51f48d-ac16-4c54-a7ae-b8dc0140de95"
      },
      "source": [
        "combined_val_embeddings[0][9].shape"
      ],
      "execution_count": 26,
      "outputs": [
        {
          "output_type": "execute_result",
          "data": {
            "text/plain": [
              "torch.Size([1024])"
            ]
          },
          "metadata": {
            "tags": []
          },
          "execution_count": 26
        }
      ]
    },
    {
      "cell_type": "markdown",
      "metadata": {
        "id": "7f4nwu_1NSXp"
      },
      "source": [
        "# Get trained encoder\n"
      ]
    },
    {
      "cell_type": "markdown",
      "metadata": {
        "id": "2KngNysfq2UF"
      },
      "source": [
        "Instantiate encoder"
      ]
    },
    {
      "cell_type": "code",
      "metadata": {
        "colab": {
          "base_uri": "https://localhost:8080/",
          "height": 52
        },
        "id": "vTMnF0hoq8BE",
        "outputId": "2e6acf3b-d467-4cec-c53a-e1e2fd8bc239"
      },
      "source": [
        "'''\n",
        "device = \"cuda\" if torch.cuda.is_available() else \"cpu\"\n",
        "rep_encoder = LinearCPCEncoder(input_size, feature_size)\n",
        "rep_encoder.to(device)\n",
        "'''"
      ],
      "execution_count": 27,
      "outputs": [
        {
          "output_type": "execute_result",
          "data": {
            "application/vnd.google.colaboratory.intrinsic+json": {
              "type": "string"
            },
            "text/plain": [
              "'\\ndevice = \"cuda\" if torch.cuda.is_available() else \"cpu\"\\nrep_encoder = LinearCPCEncoder(input_size, feature_size)\\nrep_encoder.to(device)\\n'"
            ]
          },
          "metadata": {
            "tags": []
          },
          "execution_count": 27
        }
      ]
    },
    {
      "cell_type": "markdown",
      "metadata": {
        "id": "twblPXcHq8zh"
      },
      "source": [
        "Get encoder (Train/Retrieve from drive)"
      ]
    },
    {
      "cell_type": "code",
      "metadata": {
        "colab": {
          "base_uri": "https://localhost:8080/",
          "height": 120
        },
        "id": "honX4r03UCLc",
        "outputId": "3304d714-2044-4fd5-c2c3-f4176b34af7a"
      },
      "source": [
        "'''\n",
        "config = {}\n",
        "config['epochs'] = e_num_epochs\n",
        "config['lr'] = e_lr\n",
        "config['patience'] = e_patience\n",
        "config['batch_size'] = e_batch_size\n",
        "config['save_dir'] = encoder_models_dir\n",
        "config['model_name'] = model_name\n",
        "config['steps_start'] = steps_start\n",
        "config['steps_end'] = steps_end\n",
        "config['steps_step'] = steps_step\n",
        "config['gru_layers'] = gru_layers\n",
        "config['gru_size'] = gru_size\n",
        "config['sequence_length'] = seq_len\n",
        "config['env_name'] = env_name\n",
        "'''"
      ],
      "execution_count": 28,
      "outputs": [
        {
          "output_type": "execute_result",
          "data": {
            "application/vnd.google.colaboratory.intrinsic+json": {
              "type": "string"
            },
            "text/plain": [
              "\"\\nconfig = {}\\nconfig['epochs'] = e_num_epochs\\nconfig['lr'] = e_lr\\nconfig['patience'] = e_patience\\nconfig['batch_size'] = e_batch_size\\nconfig['save_dir'] = encoder_models_dir\\nconfig['model_name'] = model_name\\nconfig['steps_start'] = steps_start\\nconfig['steps_end'] = steps_end\\nconfig['steps_step'] = steps_step\\nconfig['gru_layers'] = gru_layers\\nconfig['gru_size'] = gru_size\\nconfig['sequence_length'] = seq_len\\nconfig['env_name'] = env_name\\n\""
            ]
          },
          "metadata": {
            "tags": []
          },
          "execution_count": 28
        }
      ]
    },
    {
      "cell_type": "code",
      "metadata": {
        "id": "Z4kx2ZstNZNK",
        "colab": {
          "base_uri": "https://localhost:8080/"
        },
        "outputId": "ae5f3c9c-20fd-493b-a4d4-930d3b0340f3"
      },
      "source": [
        "trained_encoder = ClipEncoder(input_channels=input_channels, feature_size=feature_size)"
      ],
      "execution_count": 29,
      "outputs": [
        {
          "output_type": "stream",
          "text": [
            "100%|███████████████████████████████████████| 354M/354M [00:10<00:00, 34.4MiB/s]\n"
          ],
          "name": "stderr"
        }
      ]
    },
    {
      "cell_type": "markdown",
      "metadata": {
        "id": "XqbNrfT33lCD"
      },
      "source": [
        "# Run probe training"
      ]
    },
    {
      "cell_type": "markdown",
      "metadata": {
        "id": "0lDGywWFBxr1"
      },
      "source": [
        "## Run training"
      ]
    },
    {
      "cell_type": "code",
      "metadata": {
        "colab": {
          "base_uri": "https://localhost:8080/"
        },
        "id": "eZsKUk_Jv66P",
        "outputId": "61ecb9c8-9735-4bbe-b72e-6353598f1eb8"
      },
      "source": [
        "os.chdir(\"/content\")\n",
        "run_probe_training(training_input, trained_encoder, probe_type, p_num_epochs, p_lr, p_patience, wandb, probe_models_dir, p_batch_size, \n",
        "           combined_tr_embeddings, combined_val_embeddings, tr_labels, val_labels, combined_test_embeddings, test_labels, use_encoder=use_encoder)"
      ],
      "execution_count": 30,
      "outputs": [
        {
          "output_type": "stream",
          "text": [
            "K: ball_x, Loaded path: drive/MyDrive/PAL_HILL_2021/Atari-RL/Models/probes/optical_flow-raft-linear_OpticalFlowBlackMaskCombined/BreakoutNoFrameskip-v4/ball_x_80.pt\n",
            "K: ball_y, Loaded path: drive/MyDrive/PAL_HILL_2021/Atari-RL/Models/probes/optical_flow-raft-linear_OpticalFlowBlackMaskCombined/BreakoutNoFrameskip-v4/ball_y_80.pt\n",
            "K: player_x, Loaded path: drive/MyDrive/PAL_HILL_2021/Atari-RL/Models/probes/optical_flow-raft-linear_OpticalFlowBlackMaskCombined/BreakoutNoFrameskip-v4/player_x_80.pt\n",
            "K: blocks_hit_count, Loaded path: drive/MyDrive/PAL_HILL_2021/Atari-RL/Models/probes/optical_flow-raft-linear_OpticalFlowBlackMaskCombined/BreakoutNoFrameskip-v4/blocks_hit_count_80.pt\n",
            "K: score, Loaded path: drive/MyDrive/PAL_HILL_2021/Atari-RL/Models/probes/optical_flow-raft-linear_OpticalFlowBlackMaskCombined/BreakoutNoFrameskip-v4/score_80.pt\n",
            "K: block_bit_map_12, Loaded path: drive/MyDrive/PAL_HILL_2021/Atari-RL/Models/probes/optical_flow-raft-linear_OpticalFlowBlackMaskCombined/BreakoutNoFrameskip-v4/block_bit_map_12_80.pt\n",
            "selected num_epochs: 80\n",
            "Total Steps: 14181\n",
            "Epoch: 81\n",
            "\t ball_x_loss:   3.3120\n",
            "\t ball_y_loss:   2.4966\n",
            "\t player_x_loss:   1.0862\n",
            "\t blocks_hit_count_loss:   0.0536\n",
            "\t score_loss:   0.0538\n",
            "\t block_bit_map_12_loss:   0.1223\n",
            "\t --\n",
            "\t ball_x_acc:   0.3223\n",
            "\t ball_y_acc:   0.4473\n",
            "\t player_x_acc:   0.7484\n",
            "\t blocks_hit_count_acc:   0.9931\n",
            "\t score_acc:   0.9931\n",
            "\t block_bit_map_12_acc:   0.9727\n",
            "\t --\n",
            "Total Steps: 2005\n",
            "Epoch: 81\n",
            "\t val_ball_x_loss:   3.7857\n",
            "\t val_ball_y_loss:   3.0992\n",
            "\t val_player_x_loss:   1.4860\n",
            "\t val_blocks_hit_count_loss:   0.0434\n",
            "\t val_score_loss:   0.0434\n",
            "\t val_block_bit_map_12_loss:   0.2771\n",
            "\t --\n",
            "\t val_ball_x_acc:   0.2505\n",
            "\t val_ball_y_acc:   0.3266\n",
            "\t val_player_x_acc:   0.6598\n",
            "\t val_blocks_hit_count_acc:   0.9955\n",
            "\t val_score_acc:   0.9955\n",
            "\t val_block_bit_map_12_acc:   0.9108\n",
            "\t --\n",
            "Total Steps: 14181\n",
            "Epoch: 82\n",
            "\t ball_x_loss:   3.3013\n",
            "\t ball_y_loss:   2.4903\n",
            "\t player_x_loss:   1.0736\n",
            "\t blocks_hit_count_loss:   0.0547\n",
            "\t score_loss:   0.0547\n",
            "\t block_bit_map_12_loss:   0.1201\n",
            "\t --\n",
            "\t ball_x_acc:   0.3191\n",
            "\t ball_y_acc:   0.4493\n",
            "\t player_x_acc:   0.7550\n",
            "\t blocks_hit_count_acc:   0.9922\n",
            "\t score_acc:   0.9921\n",
            "\t block_bit_map_12_acc:   0.9734\n",
            "\t --\n",
            "Total Steps: 2005\n",
            "Epoch: 82\n",
            "\t val_ball_x_loss:   3.8055\n",
            "\t val_ball_y_loss:   3.1935\n",
            "\t val_player_x_loss:   1.5163\n",
            "\t val_blocks_hit_count_loss:   0.0335\n",
            "\t val_score_loss:   0.0334\n",
            "\t val_block_bit_map_12_loss:   0.3363\n",
            "\t --\n",
            "\t val_ball_x_acc:   0.2495\n",
            "\t val_ball_y_acc:   0.3105\n",
            "\t val_player_x_acc:   0.6295\n",
            "\t val_blocks_hit_count_acc:   0.9965\n",
            "\t val_score_acc:   0.9965\n",
            "\t val_block_bit_map_12_acc:   0.8836\n",
            "\t --\n",
            "EarlyStopping for ball_x_probe counter: 1 out of 15\n",
            "EarlyStopping for ball_y_probe counter: 1 out of 15\n",
            "EarlyStopping for player_x_probe counter: 1 out of 15\n",
            "EarlyStopping for block_bit_map_12_probe counter: 1 out of 15\n",
            "Total Steps: 14181\n",
            "Epoch: 83\n",
            "\t ball_x_loss:   3.2687\n",
            "\t ball_y_loss:   2.4661\n",
            "\t player_x_loss:   1.0582\n",
            "\t blocks_hit_count_loss:   0.0431\n",
            "\t score_loss:   0.0431\n",
            "\t block_bit_map_12_loss:   0.1164\n",
            "\t --\n",
            "\t ball_x_acc:   0.3287\n",
            "\t ball_y_acc:   0.4512\n",
            "\t player_x_acc:   0.7581\n",
            "\t blocks_hit_count_acc:   0.9939\n",
            "\t score_acc:   0.9939\n",
            "\t block_bit_map_12_acc:   0.9731\n",
            "\t --\n",
            "Total Steps: 2005\n",
            "Epoch: 83\n",
            "\t val_ball_x_loss:   3.8057\n",
            "\t val_ball_y_loss:   3.1987\n",
            "\t val_player_x_loss:   1.4584\n",
            "\t val_blocks_hit_count_loss:   0.0325\n",
            "\t val_score_loss:   0.0325\n",
            "\t val_block_bit_map_12_loss:   0.2853\n",
            "\t --\n",
            "\t val_ball_x_acc:   0.2293\n",
            "\t val_ball_y_acc:   0.3014\n",
            "\t val_player_x_acc:   0.6532\n",
            "\t val_blocks_hit_count_acc:   0.9965\n",
            "\t val_score_acc:   0.9965\n",
            "\t val_block_bit_map_12_acc:   0.8992\n",
            "\t --\n",
            "EarlyStopping for ball_x_probe counter: 2 out of 15\n",
            "EarlyStopping for ball_y_probe counter: 2 out of 15\n",
            "EarlyStopping for player_x_probe counter: 2 out of 15\n",
            "EarlyStopping for blocks_hit_count_probe counter: 1 out of 15\n",
            "EarlyStopping for score_probe counter: 1 out of 15\n",
            "EarlyStopping for block_bit_map_12_probe counter: 2 out of 15\n",
            "Total Steps: 14181\n",
            "Epoch: 84\n",
            "\t ball_x_loss:   3.2347\n",
            "\t ball_y_loss:   2.4641\n",
            "\t player_x_loss:   1.0560\n",
            "\t blocks_hit_count_loss:   0.0427\n",
            "\t score_loss:   0.0427\n",
            "\t block_bit_map_12_loss:   0.1166\n",
            "\t --\n",
            "\t ball_x_acc:   0.3387\n",
            "\t ball_y_acc:   0.4535\n",
            "\t player_x_acc:   0.7557\n",
            "\t blocks_hit_count_acc:   0.9938\n",
            "\t score_acc:   0.9938\n",
            "\t block_bit_map_12_acc:   0.9743\n",
            "\t --\n",
            "Total Steps: 2005\n",
            "Epoch: 84\n",
            "\t val_ball_x_loss:   3.8054\n",
            "\t val_ball_y_loss:   3.1848\n",
            "\t val_player_x_loss:   1.3940\n",
            "\t val_blocks_hit_count_loss:   0.0306\n",
            "\t val_score_loss:   0.0305\n",
            "\t val_block_bit_map_12_loss:   0.2995\n",
            "\t --\n",
            "\t val_ball_x_acc:   0.2409\n",
            "\t val_ball_y_acc:   0.3075\n",
            "\t val_player_x_acc:   0.6699\n",
            "\t val_blocks_hit_count_acc:   0.9950\n",
            "\t val_score_acc:   0.9950\n",
            "\t val_block_bit_map_12_acc:   0.8987\n",
            "\t --\n",
            "EarlyStopping for ball_x_probe counter: 3 out of 15\n",
            "EarlyStopping for ball_y_probe counter: 3 out of 15\n",
            "EarlyStopping for blocks_hit_count_probe counter: 2 out of 15\n",
            "EarlyStopping for score_probe counter: 2 out of 15\n",
            "EarlyStopping for block_bit_map_12_probe counter: 3 out of 15\n",
            "Total Steps: 14181\n",
            "Epoch: 85\n",
            "\t ball_x_loss:   3.2203\n",
            "\t ball_y_loss:   2.4416\n",
            "\t player_x_loss:   1.0169\n",
            "\t blocks_hit_count_loss:   0.0425\n",
            "\t score_loss:   0.0426\n",
            "\t block_bit_map_12_loss:   0.1103\n",
            "\t --\n",
            "\t ball_x_acc:   0.3374\n",
            "\t ball_y_acc:   0.4608\n",
            "\t player_x_acc:   0.7681\n",
            "\t blocks_hit_count_acc:   0.9936\n",
            "\t score_acc:   0.9936\n",
            "\t block_bit_map_12_acc:   0.9749\n",
            "\t --\n",
            "Total Steps: 2005\n",
            "Epoch: 85\n",
            "\t val_ball_x_loss:   3.8148\n",
            "\t val_ball_y_loss:   3.1934\n",
            "\t val_player_x_loss:   1.4482\n",
            "\t val_blocks_hit_count_loss:   0.0271\n",
            "\t val_score_loss:   0.0270\n",
            "\t val_block_bit_map_12_loss:   0.3045\n",
            "\t --\n",
            "\t val_ball_x_acc:   0.2314\n",
            "\t val_ball_y_acc:   0.2888\n",
            "\t val_player_x_acc:   0.6371\n",
            "\t val_blocks_hit_count_acc:   0.9960\n",
            "\t val_score_acc:   0.9960\n",
            "\t val_block_bit_map_12_acc:   0.8891\n",
            "\t --\n",
            "EarlyStopping for ball_x_probe counter: 4 out of 15\n",
            "EarlyStopping for ball_y_probe counter: 4 out of 15\n",
            "EarlyStopping for player_x_probe counter: 1 out of 15\n",
            "EarlyStopping for blocks_hit_count_probe counter: 3 out of 15\n",
            "EarlyStopping for score_probe counter: 3 out of 15\n",
            "EarlyStopping for block_bit_map_12_probe counter: 4 out of 15\n",
            "Total Steps: 14181\n",
            "Epoch: 86\n",
            "\t ball_x_loss:   3.1986\n",
            "\t ball_y_loss:   2.4361\n",
            "\t player_x_loss:   1.0321\n",
            "\t blocks_hit_count_loss:   0.0419\n",
            "\t score_loss:   0.0420\n",
            "\t block_bit_map_12_loss:   0.1099\n",
            "\t --\n",
            "\t ball_x_acc:   0.3380\n",
            "\t ball_y_acc:   0.4559\n",
            "\t player_x_acc:   0.7642\n",
            "\t blocks_hit_count_acc:   0.9938\n",
            "\t score_acc:   0.9938\n",
            "\t block_bit_map_12_acc:   0.9747\n",
            "\t --\n",
            "Total Steps: 2005\n",
            "Epoch: 86\n",
            "\t val_ball_x_loss:   3.7646\n",
            "\t val_ball_y_loss:   3.1141\n",
            "\t val_player_x_loss:   1.3732\n",
            "\t val_blocks_hit_count_loss:   0.0370\n",
            "\t val_score_loss:   0.0370\n",
            "\t val_block_bit_map_12_loss:   0.3132\n",
            "\t --\n",
            "\t val_ball_x_acc:   0.2465\n",
            "\t val_ball_y_acc:   0.3191\n",
            "\t val_player_x_acc:   0.6724\n",
            "\t val_blocks_hit_count_acc:   0.9950\n",
            "\t val_score_acc:   0.9950\n",
            "\t val_block_bit_map_12_acc:   0.8926\n",
            "\t --\n",
            "EarlyStopping for ball_x_probe counter: 5 out of 15\n",
            "EarlyStopping for ball_y_probe counter: 5 out of 15\n",
            "EarlyStopping for blocks_hit_count_probe counter: 4 out of 15\n",
            "EarlyStopping for score_probe counter: 4 out of 15\n",
            "EarlyStopping for block_bit_map_12_probe counter: 5 out of 15\n",
            "Total Steps: 14181\n",
            "Epoch: 87\n",
            "\t ball_x_loss:   3.1761\n",
            "\t ball_y_loss:   2.4213\n",
            "\t player_x_loss:   1.0034\n",
            "\t blocks_hit_count_loss:   0.0387\n",
            "\t score_loss:   0.0388\n",
            "\t block_bit_map_12_loss:   0.1057\n",
            "\t --\n",
            "\t ball_x_acc:   0.3508\n",
            "\t ball_y_acc:   0.4633\n",
            "\t player_x_acc:   0.7718\n",
            "\t blocks_hit_count_acc:   0.9938\n",
            "\t score_acc:   0.9938\n",
            "\t block_bit_map_12_acc:   0.9772\n",
            "\t --\n",
            "Total Steps: 2005\n",
            "Epoch: 87\n",
            "\t val_ball_x_loss:   3.7669\n",
            "\t val_ball_y_loss:   3.1176\n",
            "\t val_player_x_loss:   1.4528\n",
            "\t val_blocks_hit_count_loss:   0.0286\n",
            "\t val_score_loss:   0.0285\n",
            "\t val_block_bit_map_12_loss:   0.2842\n",
            "\t --\n",
            "\t val_ball_x_acc:   0.2545\n",
            "\t val_ball_y_acc:   0.3135\n",
            "\t val_player_x_acc:   0.6401\n",
            "\t val_blocks_hit_count_acc:   0.9970\n",
            "\t val_score_acc:   0.9970\n",
            "\t val_block_bit_map_12_acc:   0.9078\n",
            "\t --\n",
            "EarlyStopping for ball_y_probe counter: 6 out of 15\n",
            "EarlyStopping for player_x_probe counter: 1 out of 15\n",
            "EarlyStopping for block_bit_map_12_probe counter: 6 out of 15\n",
            "Epoch     7: reducing learning rate of group 0 to 6.0000e-05.\n",
            "Epoch     7: reducing learning rate of group 0 to 6.0000e-05.\n",
            "Total Steps: 14181\n",
            "Epoch: 88\n",
            "\t ball_x_loss:   3.1565\n",
            "\t ball_y_loss:   2.3898\n",
            "\t player_x_loss:   1.0111\n",
            "\t blocks_hit_count_loss:   0.0387\n",
            "\t score_loss:   0.0387\n",
            "\t block_bit_map_12_loss:   0.1042\n",
            "\t --\n",
            "\t ball_x_acc:   0.3477\n",
            "\t ball_y_acc:   0.4765\n",
            "\t player_x_acc:   0.7716\n",
            "\t blocks_hit_count_acc:   0.9930\n",
            "\t score_acc:   0.9930\n",
            "\t block_bit_map_12_acc:   0.9774\n",
            "\t --\n",
            "Total Steps: 2005\n",
            "Epoch: 88\n",
            "\t val_ball_x_loss:   3.7468\n",
            "\t val_ball_y_loss:   3.1177\n",
            "\t val_player_x_loss:   1.4544\n",
            "\t val_blocks_hit_count_loss:   0.0329\n",
            "\t val_score_loss:   0.0329\n",
            "\t val_block_bit_map_12_loss:   0.2940\n",
            "\t --\n",
            "\t val_ball_x_acc:   0.2550\n",
            "\t val_ball_y_acc:   0.3377\n",
            "\t val_player_x_acc:   0.6431\n",
            "\t val_blocks_hit_count_acc:   0.9960\n",
            "\t val_score_acc:   0.9960\n",
            "\t val_block_bit_map_12_acc:   0.9017\n",
            "\t --\n",
            "EarlyStopping for player_x_probe counter: 2 out of 15\n",
            "EarlyStopping for blocks_hit_count_probe counter: 1 out of 15\n",
            "EarlyStopping for score_probe counter: 1 out of 15\n",
            "EarlyStopping for block_bit_map_12_probe counter: 7 out of 15\n",
            "Total Steps: 14181\n",
            "Epoch: 89\n",
            "\t ball_x_loss:   3.1374\n",
            "\t ball_y_loss:   2.3912\n",
            "\t player_x_loss:   0.9770\n",
            "\t blocks_hit_count_loss:   0.0418\n",
            "\t score_loss:   0.0418\n",
            "\t block_bit_map_12_loss:   0.1022\n",
            "\t --\n",
            "\t ball_x_acc:   0.3545\n",
            "\t ball_y_acc:   0.4811\n",
            "\t player_x_acc:   0.7803\n",
            "\t blocks_hit_count_acc:   0.9931\n",
            "\t score_acc:   0.9931\n",
            "\t block_bit_map_12_acc:   0.9792\n",
            "\t --\n",
            "Total Steps: 2005\n",
            "Epoch: 89\n",
            "\t val_ball_x_loss:   3.7137\n",
            "\t val_ball_y_loss:   3.1074\n",
            "\t val_player_x_loss:   1.3900\n",
            "\t val_blocks_hit_count_loss:   0.0169\n",
            "\t val_score_loss:   0.0169\n",
            "\t val_block_bit_map_12_loss:   0.2804\n",
            "\t --\n",
            "\t val_ball_x_acc:   0.2530\n",
            "\t val_ball_y_acc:   0.3241\n",
            "\t val_player_x_acc:   0.6779\n",
            "\t val_blocks_hit_count_acc:   0.9995\n",
            "\t val_score_acc:   0.9995\n",
            "\t val_block_bit_map_12_acc:   0.9078\n",
            "\t --\n",
            "EarlyStopping for ball_x_probe counter: 1 out of 15\n",
            "EarlyStopping for ball_y_probe counter: 1 out of 15\n",
            "EarlyStopping for block_bit_map_12_probe counter: 8 out of 15\n",
            "Total Steps: 14181\n",
            "Epoch: 90\n",
            "\t ball_x_loss:   3.1409\n",
            "\t ball_y_loss:   2.4133\n",
            "\t player_x_loss:   0.9931\n",
            "\t blocks_hit_count_loss:   0.0394\n",
            "\t score_loss:   0.0395\n",
            "\t block_bit_map_12_loss:   0.1057\n",
            "\t --\n",
            "\t ball_x_acc:   0.3483\n",
            "\t ball_y_acc:   0.4678\n",
            "\t player_x_acc:   0.7728\n",
            "\t blocks_hit_count_acc:   0.9929\n",
            "\t score_acc:   0.9929\n",
            "\t block_bit_map_12_acc:   0.9771\n",
            "\t --\n",
            "Total Steps: 2005\n",
            "Epoch: 90\n",
            "\t val_ball_x_loss:   3.6691\n",
            "\t val_ball_y_loss:   3.0972\n",
            "\t val_player_x_loss:   1.3454\n",
            "\t val_blocks_hit_count_loss:   0.0292\n",
            "\t val_score_loss:   0.0292\n",
            "\t val_block_bit_map_12_loss:   0.3066\n",
            "\t --\n",
            "\t val_ball_x_acc:   0.2540\n",
            "\t val_ball_y_acc:   0.3276\n",
            "\t val_player_x_acc:   0.6689\n",
            "\t val_blocks_hit_count_acc:   0.9965\n",
            "\t val_score_acc:   0.9965\n",
            "\t val_block_bit_map_12_acc:   0.8992\n",
            "\t --\n",
            "EarlyStopping for ball_x_probe counter: 2 out of 15\n",
            "EarlyStopping for ball_y_probe counter: 2 out of 15\n",
            "EarlyStopping for player_x_probe counter: 1 out of 15\n",
            "EarlyStopping for blocks_hit_count_probe counter: 1 out of 15\n",
            "EarlyStopping for score_probe counter: 1 out of 15\n",
            "EarlyStopping for block_bit_map_12_probe counter: 9 out of 15\n",
            "Total Steps: 14181\n",
            "Epoch: 91\n",
            "\t ball_x_loss:   3.1155\n",
            "\t ball_y_loss:   2.3762\n",
            "\t player_x_loss:   0.9846\n",
            "\t blocks_hit_count_loss:   0.0379\n",
            "\t score_loss:   0.0379\n",
            "\t block_bit_map_12_loss:   0.1042\n",
            "\t --\n",
            "\t ball_x_acc:   0.3587\n",
            "\t ball_y_acc:   0.4786\n",
            "\t player_x_acc:   0.7731\n",
            "\t blocks_hit_count_acc:   0.9937\n",
            "\t score_acc:   0.9937\n",
            "\t block_bit_map_12_acc:   0.9770\n",
            "\t --\n",
            "Total Steps: 2005\n",
            "Epoch: 91\n",
            "\t val_ball_x_loss:   3.7083\n",
            "\t val_ball_y_loss:   3.0919\n",
            "\t val_player_x_loss:   1.3446\n",
            "\t val_blocks_hit_count_loss:   0.0305\n",
            "\t val_score_loss:   0.0304\n",
            "\t val_block_bit_map_12_loss:   0.2878\n",
            "\t --\n",
            "\t val_ball_x_acc:   0.2616\n",
            "\t val_ball_y_acc:   0.3266\n",
            "\t val_player_x_acc:   0.6774\n",
            "\t val_blocks_hit_count_acc:   0.9955\n",
            "\t val_score_acc:   0.9955\n",
            "\t val_block_bit_map_12_acc:   0.9052\n",
            "\t --\n",
            "EarlyStopping for ball_y_probe counter: 3 out of 15\n",
            "EarlyStopping for player_x_probe counter: 2 out of 15\n",
            "EarlyStopping for blocks_hit_count_probe counter: 2 out of 15\n",
            "EarlyStopping for score_probe counter: 2 out of 15\n",
            "EarlyStopping for block_bit_map_12_probe counter: 10 out of 15\n",
            "Total Steps: 14181\n",
            "Epoch: 92\n",
            "\t ball_x_loss:   3.0940\n",
            "\t ball_y_loss:   2.3728\n",
            "\t player_x_loss:   0.9705\n",
            "\t blocks_hit_count_loss:   0.0359\n",
            "\t score_loss:   0.0360\n",
            "\t block_bit_map_12_loss:   0.1004\n",
            "\t --\n",
            "\t ball_x_acc:   0.3590\n",
            "\t ball_y_acc:   0.4762\n",
            "\t player_x_acc:   0.7783\n",
            "\t blocks_hit_count_acc:   0.9940\n",
            "\t score_acc:   0.9941\n",
            "\t block_bit_map_12_acc:   0.9791\n",
            "\t --\n",
            "Total Steps: 2005\n",
            "Epoch: 92\n",
            "\t val_ball_x_loss:   3.6006\n",
            "\t val_ball_y_loss:   2.9987\n",
            "\t val_player_x_loss:   1.4038\n",
            "\t val_blocks_hit_count_loss:   0.0236\n",
            "\t val_score_loss:   0.0236\n",
            "\t val_block_bit_map_12_loss:   0.2816\n",
            "\t --\n",
            "\t val_ball_x_acc:   0.2636\n",
            "\t val_ball_y_acc:   0.3483\n",
            "\t val_player_x_acc:   0.6391\n",
            "\t val_blocks_hit_count_acc:   0.9975\n",
            "\t val_score_acc:   0.9975\n",
            "\t val_block_bit_map_12_acc:   0.8942\n",
            "\t --\n",
            "EarlyStopping for player_x_probe counter: 3 out of 15\n",
            "EarlyStopping for blocks_hit_count_probe counter: 3 out of 15\n",
            "EarlyStopping for score_probe counter: 3 out of 15\n",
            "EarlyStopping for block_bit_map_12_probe counter: 11 out of 15\n",
            "Total Steps: 14181\n",
            "Epoch: 93\n",
            "\t ball_x_loss:   3.0919\n",
            "\t ball_y_loss:   2.3958\n",
            "\t player_x_loss:   0.9698\n",
            "\t blocks_hit_count_loss:   0.0314\n",
            "\t score_loss:   0.0315\n",
            "\t block_bit_map_12_loss:   0.1051\n",
            "\t --\n",
            "\t ball_x_acc:   0.3561\n",
            "\t ball_y_acc:   0.4694\n",
            "\t player_x_acc:   0.7843\n",
            "\t blocks_hit_count_acc:   0.9946\n",
            "\t score_acc:   0.9946\n",
            "\t block_bit_map_12_acc:   0.9774\n",
            "\t --\n",
            "Total Steps: 2005\n",
            "Epoch: 93\n",
            "\t val_ball_x_loss:   3.7077\n",
            "\t val_ball_y_loss:   3.0785\n",
            "\t val_player_x_loss:   1.3507\n",
            "\t val_blocks_hit_count_loss:   0.0399\n",
            "\t val_score_loss:   0.0399\n",
            "\t val_block_bit_map_12_loss:   0.2949\n",
            "\t --\n",
            "\t val_ball_x_acc:   0.2560\n",
            "\t val_ball_y_acc:   0.3251\n",
            "\t val_player_x_acc:   0.6678\n",
            "\t val_blocks_hit_count_acc:   0.9934\n",
            "\t val_score_acc:   0.9934\n",
            "\t val_block_bit_map_12_acc:   0.8992\n",
            "\t --\n",
            "EarlyStopping for ball_x_probe counter: 1 out of 15\n",
            "EarlyStopping for ball_y_probe counter: 1 out of 15\n",
            "EarlyStopping for player_x_probe counter: 4 out of 15\n",
            "EarlyStopping for blocks_hit_count_probe counter: 4 out of 15\n",
            "EarlyStopping for score_probe counter: 4 out of 15\n",
            "EarlyStopping for block_bit_map_12_probe counter: 12 out of 15\n",
            "Epoch    13: reducing learning rate of group 0 to 1.2000e-05.\n",
            "Total Steps: 14181\n",
            "Epoch: 94\n",
            "\t ball_x_loss:   3.0710\n",
            "\t ball_y_loss:   2.3704\n",
            "\t player_x_loss:   0.9312\n",
            "\t blocks_hit_count_loss:   0.0395\n",
            "\t score_loss:   0.0394\n",
            "\t block_bit_map_12_loss:   0.1057\n",
            "\t --\n",
            "\t ball_x_acc:   0.3650\n",
            "\t ball_y_acc:   0.4824\n",
            "\t player_x_acc:   0.7905\n",
            "\t blocks_hit_count_acc:   0.9927\n",
            "\t score_acc:   0.9927\n",
            "\t block_bit_map_12_acc:   0.9783\n",
            "\t --\n",
            "Total Steps: 2005\n",
            "Epoch: 94\n",
            "\t val_ball_x_loss:   3.6925\n",
            "\t val_ball_y_loss:   3.0970\n",
            "\t val_player_x_loss:   1.3729\n",
            "\t val_blocks_hit_count_loss:   0.0299\n",
            "\t val_score_loss:   0.0298\n",
            "\t val_block_bit_map_12_loss:   0.2797\n",
            "\t --\n",
            "\t val_ball_x_acc:   0.2661\n",
            "\t val_ball_y_acc:   0.3246\n",
            "\t val_player_x_acc:   0.6638\n",
            "\t val_blocks_hit_count_acc:   0.9955\n",
            "\t val_score_acc:   0.9955\n",
            "\t val_block_bit_map_12_acc:   0.9062\n",
            "\t --\n",
            "EarlyStopping for ball_y_probe counter: 2 out of 15\n",
            "EarlyStopping for player_x_probe counter: 5 out of 15\n",
            "EarlyStopping for blocks_hit_count_probe counter: 5 out of 15\n",
            "EarlyStopping for score_probe counter: 5 out of 15\n",
            "EarlyStopping for block_bit_map_12_probe counter: 13 out of 15\n",
            "Total Steps: 14181\n",
            "Epoch: 95\n",
            "\t ball_x_loss:   3.0583\n",
            "\t ball_y_loss:   2.3755\n",
            "\t player_x_loss:   0.9357\n",
            "\t blocks_hit_count_loss:   0.0394\n",
            "\t score_loss:   0.0394\n",
            "\t block_bit_map_12_loss:   0.1014\n",
            "\t --\n",
            "\t ball_x_acc:   0.3634\n",
            "\t ball_y_acc:   0.4794\n",
            "\t player_x_acc:   0.7874\n",
            "\t blocks_hit_count_acc:   0.9924\n",
            "\t score_acc:   0.9924\n",
            "\t block_bit_map_12_acc:   0.9791\n",
            "\t --\n",
            "Total Steps: 2005\n",
            "Epoch: 95\n",
            "\t val_ball_x_loss:   3.7151\n",
            "\t val_ball_y_loss:   3.0613\n",
            "\t val_player_x_loss:   1.2711\n",
            "\t val_blocks_hit_count_loss:   0.0245\n",
            "\t val_score_loss:   0.0244\n",
            "\t val_block_bit_map_12_loss:   0.2652\n",
            "\t --\n",
            "\t val_ball_x_acc:   0.2722\n",
            "\t val_ball_y_acc:   0.3271\n",
            "\t val_player_x_acc:   0.6855\n",
            "\t val_blocks_hit_count_acc:   0.9970\n",
            "\t val_score_acc:   0.9970\n",
            "\t val_block_bit_map_12_acc:   0.9183\n",
            "\t --\n",
            "EarlyStopping for ball_y_probe counter: 3 out of 15\n",
            "EarlyStopping for blocks_hit_count_probe counter: 6 out of 15\n",
            "EarlyStopping for score_probe counter: 6 out of 15\n",
            "Epoch    15: reducing learning rate of group 0 to 6.0000e-05.\n",
            "Epoch    15: reducing learning rate of group 0 to 6.0000e-05.\n",
            "Total Steps: 14181\n",
            "Epoch: 96\n",
            "\t ball_x_loss:   3.0441\n",
            "\t ball_y_loss:   2.3844\n",
            "\t player_x_loss:   0.9433\n",
            "\t blocks_hit_count_loss:   0.0397\n",
            "\t score_loss:   0.0396\n",
            "\t block_bit_map_12_loss:   0.1042\n",
            "\t --\n",
            "\t ball_x_acc:   0.3726\n",
            "\t ball_y_acc:   0.4758\n",
            "\t player_x_acc:   0.7866\n",
            "\t blocks_hit_count_acc:   0.9925\n",
            "\t score_acc:   0.9925\n",
            "\t block_bit_map_12_acc:   0.9776\n",
            "\t --\n",
            "Total Steps: 2005\n",
            "Epoch: 96\n",
            "\t val_ball_x_loss:   3.6744\n",
            "\t val_ball_y_loss:   3.0787\n",
            "\t val_player_x_loss:   1.3105\n",
            "\t val_blocks_hit_count_loss:   0.0295\n",
            "\t val_score_loss:   0.0295\n",
            "\t val_block_bit_map_12_loss:   0.2812\n",
            "\t --\n",
            "\t val_ball_x_acc:   0.2742\n",
            "\t val_ball_y_acc:   0.3352\n",
            "\t val_player_x_acc:   0.6825\n",
            "\t val_blocks_hit_count_acc:   0.9960\n",
            "\t val_score_acc:   0.9960\n",
            "\t val_block_bit_map_12_acc:   0.9062\n",
            "\t --\n",
            "EarlyStopping for ball_y_probe counter: 4 out of 15\n",
            "EarlyStopping for player_x_probe counter: 1 out of 15\n",
            "EarlyStopping for blocks_hit_count_probe counter: 7 out of 15\n",
            "EarlyStopping for score_probe counter: 7 out of 15\n",
            "EarlyStopping for block_bit_map_12_probe counter: 1 out of 15\n",
            "Total Steps: 14181\n",
            "Epoch: 97\n",
            "\t ball_x_loss:   3.0171\n",
            "\t ball_y_loss:   2.3685\n",
            "\t player_x_loss:   0.9333\n",
            "\t blocks_hit_count_loss:   0.0308\n",
            "\t score_loss:   0.0308\n",
            "\t block_bit_map_12_loss:   0.1022\n",
            "\t --\n",
            "\t ball_x_acc:   0.3787\n",
            "\t ball_y_acc:   0.4800\n",
            "\t player_x_acc:   0.7912\n",
            "\t blocks_hit_count_acc:   0.9945\n",
            "\t score_acc:   0.9945\n",
            "\t block_bit_map_12_acc:   0.9788\n",
            "\t --\n",
            "Total Steps: 2005\n",
            "Epoch: 97\n",
            "\t val_ball_x_loss:   3.6129\n",
            "\t val_ball_y_loss:   3.0690\n",
            "\t val_player_x_loss:   1.3136\n",
            "\t val_blocks_hit_count_loss:   0.0195\n",
            "\t val_score_loss:   0.0195\n",
            "\t val_block_bit_map_12_loss:   0.2887\n",
            "\t --\n",
            "\t val_ball_x_acc:   0.2787\n",
            "\t val_ball_y_acc:   0.3412\n",
            "\t val_player_x_acc:   0.6759\n",
            "\t val_blocks_hit_count_acc:   0.9980\n",
            "\t val_score_acc:   0.9980\n",
            "\t val_block_bit_map_12_acc:   0.9073\n",
            "\t --\n",
            "EarlyStopping for ball_y_probe counter: 5 out of 15\n",
            "EarlyStopping for player_x_probe counter: 2 out of 15\n",
            "EarlyStopping for blocks_hit_count_probe counter: 8 out of 15\n",
            "EarlyStopping for score_probe counter: 8 out of 15\n",
            "EarlyStopping for block_bit_map_12_probe counter: 2 out of 15\n",
            "Total Steps: 14181\n",
            "Epoch: 98\n",
            "\t ball_x_loss:   3.0074\n",
            "\t ball_y_loss:   2.3573\n",
            "\t player_x_loss:   0.9177\n",
            "\t blocks_hit_count_loss:   0.0363\n",
            "\t score_loss:   0.0363\n",
            "\t block_bit_map_12_loss:   0.1009\n",
            "\t --\n",
            "\t ball_x_acc:   0.3761\n",
            "\t ball_y_acc:   0.4768\n",
            "\t player_x_acc:   0.7923\n",
            "\t blocks_hit_count_acc:   0.9926\n",
            "\t score_acc:   0.9926\n",
            "\t block_bit_map_12_acc:   0.9784\n",
            "\t --\n",
            "Total Steps: 2005\n",
            "Epoch: 98\n",
            "\t val_ball_x_loss:   3.6712\n",
            "\t val_ball_y_loss:   3.1008\n",
            "\t val_player_x_loss:   1.2887\n",
            "\t val_blocks_hit_count_loss:   0.0333\n",
            "\t val_score_loss:   0.0333\n",
            "\t val_block_bit_map_12_loss:   0.2838\n",
            "\t --\n",
            "\t val_ball_x_acc:   0.2656\n",
            "\t val_ball_y_acc:   0.3125\n",
            "\t val_player_x_acc:   0.6840\n",
            "\t val_blocks_hit_count_acc:   0.9950\n",
            "\t val_score_acc:   0.9950\n",
            "\t val_block_bit_map_12_acc:   0.9128\n",
            "\t --\n",
            "EarlyStopping for ball_x_probe counter: 1 out of 15\n",
            "EarlyStopping for ball_y_probe counter: 6 out of 15\n",
            "EarlyStopping for player_x_probe counter: 3 out of 15\n",
            "EarlyStopping for blocks_hit_count_probe counter: 9 out of 15\n",
            "EarlyStopping for score_probe counter: 9 out of 15\n",
            "EarlyStopping for block_bit_map_12_probe counter: 3 out of 15\n",
            "Epoch    18: reducing learning rate of group 0 to 1.2000e-05.\n",
            "Total Steps: 14181\n",
            "Epoch: 99\n",
            "\t ball_x_loss:   3.0077\n",
            "\t ball_y_loss:   2.3844\n",
            "\t player_x_loss:   0.8866\n",
            "\t blocks_hit_count_loss:   0.0355\n",
            "\t score_loss:   0.0355\n",
            "\t block_bit_map_12_loss:   0.1031\n",
            "\t --\n",
            "\t ball_x_acc:   0.3780\n",
            "\t ball_y_acc:   0.4697\n",
            "\t player_x_acc:   0.7989\n",
            "\t blocks_hit_count_acc:   0.9926\n",
            "\t score_acc:   0.9926\n",
            "\t block_bit_map_12_acc:   0.9793\n",
            "\t --\n",
            "Total Steps: 2005\n",
            "Epoch: 99\n",
            "\t val_ball_x_loss:   3.6486\n",
            "\t val_ball_y_loss:   3.0700\n",
            "\t val_player_x_loss:   1.2816\n",
            "\t val_blocks_hit_count_loss:   0.0207\n",
            "\t val_score_loss:   0.0206\n",
            "\t val_block_bit_map_12_loss:   0.2778\n",
            "\t --\n",
            "\t val_ball_x_acc:   0.2520\n",
            "\t val_ball_y_acc:   0.3286\n",
            "\t val_player_x_acc:   0.6915\n",
            "\t val_blocks_hit_count_acc:   0.9965\n",
            "\t val_score_acc:   0.9965\n",
            "\t val_block_bit_map_12_acc:   0.9103\n",
            "\t --\n",
            "EarlyStopping for ball_x_probe counter: 2 out of 15\n",
            "EarlyStopping for ball_y_probe counter: 7 out of 15\n",
            "EarlyStopping for blocks_hit_count_probe counter: 10 out of 15\n",
            "EarlyStopping for score_probe counter: 10 out of 15\n",
            "EarlyStopping for block_bit_map_12_probe counter: 4 out of 15\n",
            "All probe checkpoints saved!\n",
            "All probes early stopped!\n",
            "Total Steps: 3121\n",
            "In our paper, we report F1 scores and accuracies averaged across each category. \n",
            "              That is, we take a mean across all state variables in a category to get the average score for that category.\n",
            "              Then we average all the category averages to get the final score that we report per game for each method. \n",
            "              These scores are called 'across_categories_avg_acc' and 'across_categories_avg_f1' respectively\n",
            "              We do this to prevent categories with large number of state variables dominating the mean F1 score.\n",
            "              \n",
            "Epoch: Test\n",
            "\t ball_x_acc:   0.2585\n",
            "\t ball_y_acc:   0.3245\n",
            "\t player_x_acc:   0.6348\n",
            "\t blocks_hit_count_acc:   0.9951\n",
            "\t score_acc:   0.9951\n",
            "\t block_bit_map_12_acc:   0.9616\n",
            "\t small_object_localization_avg_acc:   0.2915\n",
            "\t agent_localization_avg_acc:   0.6348\n",
            "\t score_clock_lives_display_avg_acc:   0.9951\n",
            "\t misc_keys_avg_acc:   0.9784\n",
            "\t overall_avg_acc:   0.6949\n",
            "\t across_categories_avg_acc:   0.7249\n",
            "\t --\n",
            "\t ball_x_f1:   0.2299\n",
            "\t ball_y_f1:   0.2971\n",
            "\t player_x_f1:   0.6035\n",
            "\t blocks_hit_count_f1:   0.9951\n",
            "\t score_f1:   0.9951\n",
            "\t block_bit_map_12_f1:   0.9576\n",
            "\t small_object_localization_avg_f1:   0.2635\n",
            "\t agent_localization_avg_f1:   0.6035\n",
            "\t score_clock_lives_display_avg_f1:   0.9951\n",
            "\t misc_keys_avg_f1:   0.9763\n",
            "\t overall_avg_f1:   0.6797\n",
            "\t across_categories_avg_f1:   0.7096\n",
            "\t --\n"
          ],
          "name": "stdout"
        }
      ]
    },
    {
      "cell_type": "code",
      "metadata": {
        "id": "AAwgtjHx-sw4"
      },
      "source": [
        ""
      ],
      "execution_count": 30,
      "outputs": []
    }
  ]
}